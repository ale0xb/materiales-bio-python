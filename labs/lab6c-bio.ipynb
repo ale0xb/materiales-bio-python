{
 "cells": [
  {
   "cell_type": "code",
   "execution_count": null,
   "metadata": {},
   "outputs": [],
   "source": [
    "import math, itertools, random\n",
    "import altair as alt\n",
    "import misfunciones"
   ]
  },
  {
   "cell_type": "markdown",
   "metadata": {},
   "source": [
    "# Lab 6-c: Encontrando cajas DnaA\n",
    "\n",
    "En este último lab de este bloque vamos a centrarnos en encontrar las cajas DnaA en E. Coli. \n",
    "¿Cómo? Si recuerdas, en la última tarea te encargué que creases una función `kmeros_frecuentes(secuencia, k)` que devolviese un mapa de frecuencias de cada k-mero de la longitud que se pasase como parámetro.\n",
    "\n",
    "Además, te pedí que probases tu código con el origen de replicación del vibrio cholerae y los parámetros k=3, 4, 5, 6, 7, 8, 9. Vamos a hacerlo. "
   ]
  },
  {
   "cell_type": "code",
   "execution_count": null,
   "metadata": {},
   "outputs": [],
   "source": [
    "def lee_genoma(ruta_fichero):\n",
    "  fd = open(ruta_fichero)\n",
    "  genome = fd.read()\n",
    "  fd.close()\n",
    "  return genome"
   ]
  },
  {
   "cell_type": "code",
   "execution_count": null,
   "metadata": {},
   "outputs": [],
   "source": [
    "tp_genoma = lee_genoma('../data/Thermotoga-petrophila.txt')\n",
    "ec_genoma = lee_genoma('../data/E-coli.txt')\n",
    "vc_genoma = lee_genoma('../data/vibrio_cholerae.txt')\n",
    "\n",
    "fd = open(\"./oric.fasta\")\n",
    "lines  = fd.readlines()\n",
    "vc_oric = lines[1].strip('\\n') # origen de replicación del Vibrio Cholerae.\n",
    "tp_oric = lines[3].strip('\\n') # origen de replicación de la Thermotoga Petrophila.\n",
    "fd.close()"
   ]
  },
  {
   "cell_type": "code",
   "execution_count": null,
   "metadata": {},
   "outputs": [],
   "source": [
    "def kmeros_frecuentes(secuencia, k):\n",
    "    freq = {}\n",
    "    n = len(secuencia)\n",
    "    for i in range(n-k+1):\n",
    "        kmero = secuencia[i:i+k]\n",
    "        if kmero in freq:\n",
    "            freq[kmero] += 1\n",
    "        else:\n",
    "            freq[kmero] = 1\n",
    "    return freq"
   ]
  },
  {
   "cell_type": "code",
   "execution_count": null,
   "metadata": {
    "scrolled": true
   },
   "outputs": [],
   "source": [
    "kmeros_frecuentes(vc_oric, 2)"
   ]
  },
  {
   "cell_type": "code",
   "execution_count": null,
   "metadata": {},
   "outputs": [],
   "source": [
    "kmeros_frecuentes(vc_oric, 3)"
   ]
  },
  {
   "cell_type": "code",
   "execution_count": null,
   "metadata": {},
   "outputs": [],
   "source": [
    "# nos saltamos unos pocos...\n",
    "kmeros_frecuentes(vc_oric, 9)"
   ]
  },
  {
   "cell_type": "markdown",
   "metadata": {},
   "source": [
    "Si te fijas en el mapa de frecuencias, existen 3 k-meros que aparecen 3 veces: `atgatcaag`, `cttgatcat`, `tcttgatca` y `ctcttgatc`. \n",
    "\n",
    "¿Cómo de sorprendente es que un k-mero de longitud 9 aparezca en una cadena de longitud 500? Pues bastante, aproximadamente 1/1300!\n",
    "\n",
    "Para aproximarlo, y al tratarse de una cadena relativamente bastante pequeña, podemos usar la fórmula general:\n",
    "\n",
    "$\\frac{N-t(k-1) \\choose t}{A^{t \\cdot k}}$\n",
    "\n",
    "\n",
    "Vamos a verlo mejor. Si queremos ver qué k-meros salen más veces, es cuestión simplemente de filtrar el mapa de frecuencias, así:"
   ]
  },
  {
   "cell_type": "code",
   "execution_count": null,
   "metadata": {},
   "outputs": [],
   "source": [
    "def top_kmeros(secuencia, k):\n",
    "    kmeros = []\n",
    "    freqs = kmeros_frecuentes(secuencia, k)\n",
    "    m = max(freqs.values())\n",
    "    for key in freqs:\n",
    "        if freqs[key] == m:\n",
    "            kmeros.append(key)\n",
    "        # add each key to words whose corresponding frequency value is equal to m\n",
    "    return kmeros, m"
   ]
  },
  {
   "cell_type": "code",
   "execution_count": null,
   "metadata": {},
   "outputs": [],
   "source": [
    "top_kmeros(vc_oric, 9)"
   ]
  },
  {
   "cell_type": "markdown",
   "metadata": {},
   "source": [
    "Espera un momento. Entre estos cuatro k-meros hay dos `'atgatcaag'` y `'cttgatcat'` que son inversos complementarios del otro! Esto sí que es sorprendente! Además, biológicamente tiene sentido ya que la proteína DnaA puede adherirse a cualquier de los dos sentidos para iniciar la replicación. Probablemente estas sean las cajas DnaA del V. Cholerae...\n",
    "\n",
    "Pero antes, para asegurarnos, vamos a buscar dónde aparecen en todo el genoma (puede ser que aparezca recurrentemente). "
   ]
  },
  {
   "cell_type": "code",
   "execution_count": null,
   "metadata": {},
   "outputs": [],
   "source": [
    "def busca_kmero(secuencia, kmero):\n",
    "    posiciones = [] # output variable\n",
    "    for i in range(len(secuencia) - len(kmero) + 1):\n",
    "        if secuencia[i:i+len(kmero)] == kmero:\n",
    "            posiciones.append(i)\n",
    "    return posiciones"
   ]
  },
  {
   "cell_type": "code",
   "execution_count": null,
   "metadata": {},
   "outputs": [],
   "source": [
    "busca_kmero(vc_genoma, 'atgatcaag'.upper())"
   ]
  },
  {
   "cell_type": "markdown",
   "metadata": {},
   "source": [
    "Pues resulta que no, que aunque aparece en más posiciones, este k-mero sólo se \"acumula\" alrededor de la posición 152000, justo en el origen de replicación. Más evidencia para apoyar que es una caja DnaA. \n",
    "\n",
    "En fin, vamos a aplicar el mismo procedimiento a la zona que pensamos que es el origen de replicación del E.Coli, que vimos que era 3923620, de acuerdo al diagrama de sesgo. Buscaremos en una ventana de 500 bp a partir de estas posición, ya que sabemos que es un tamaño habitual en estos microorganismos:"
   ]
  },
  {
   "cell_type": "code",
   "execution_count": null,
   "metadata": {},
   "outputs": [],
   "source": [
    "kmeros_frecuentes(ec_genoma[3923620:3923620+500], 9)"
   ]
  },
  {
   "cell_type": "code",
   "execution_count": null,
   "metadata": {},
   "outputs": [],
   "source": [
    "top_kmeros(ec_genoma[3923620:3923620+500], 9)"
   ]
  },
  {
   "cell_type": "markdown",
   "metadata": {},
   "source": [
    "Vaya, no hay kmeros que aparezcan 3 veces! Vamos a volver a mirar el origen de replicación del V. Cholerae, a ver si obtenemos alguna pista...\n",
    "\n",
    "Si estamos atent@s, nos daremos cuenta de que hay otros k-meros que son sorprendentemente parecidos a los que habíamos encontrado como posibles cajas DnaA, estos son \n",
    "\n",
    "`ATGATCAAC` <-> `ATGATCAAG` (cambia el último carácter)\n",
    "`CATGATCAT,` <-> `CTTGATCAT` (cambia el segundo carácter).\n",
    "\n",
    "¿Y si pasase algo parecido en el E. Coli? Vamos a comprobarlo.\n",
    "\n",
    "Para modificar nuestro método de contar patrones, primero tendremos que permitir hacer comparaciones \"difusas\" basadas en el número de carácteres diferentes entre dos cadenas. Si este número está por debajo de un límite dado, las cadenas serán consideradas iguales :)\n",
    "\n",
    "Implementa una función `distancia(kmero_1, kmero_2)` que devuelva el número de caracteres diferentes que hay entre dos k-meros dados. Haciendo uso de esta función, genera otra llamada `busca_kmero_aprox(secuencia, kmero, d)` que devuelva cuántas veces aparece un k-mero (y otros k-meros parecidos con distancia <= d) en una secuencia dada (considera también la inversa complementaria del k-mero).\n"
   ]
  },
  {
   "cell_type": "code",
   "execution_count": null,
   "metadata": {},
   "outputs": [],
   "source": [
    "def distancia(kmero_1, kmero_2):\n",
    "    #Tu código aquí\n",
    "        "
   ]
  },
  {
   "cell_type": "code",
   "execution_count": null,
   "metadata": {},
   "outputs": [],
   "source": [
    "def cuenta_kmero_aprox(secuencia, kmero, d):\n",
    "    #Tu código aquí\n",
    "    "
   ]
  },
  {
   "cell_type": "code",
   "execution_count": null,
   "metadata": {},
   "outputs": [],
   "source": [
    "assert(cuenta_kmero_aprox(\"AACAAGCATAAACATTAAAGAG\", \"AAAAA\", 2) == 13) # asegurate de que tú código pasa este test"
   ]
  },
  {
   "cell_type": "markdown",
   "metadata": {},
   "source": [
    "Perfecto! ¿Te has fijado? `AAAAA` no aparece en la secuencia pero aún así es el k-mero más frecuente! Ten esto en cuenta en el este ejercicio: Vamos a redefinir la función `kmeros_frecuentes` para que funcione usando la cuenta aproximada que acabas de hacer. \n",
    "\n",
    "Como hemos visto, en esta nueva modalidad de búsqueda difusa, un k-mero puede no estar presente en la cadena y, a pesar de ello, ser el más frecuente. Por ello, tendremos que probar con todos los $4^{k}$ k-meros posibles. \n",
    "\n",
    "Vamos a implementarlo en código:"
   ]
  },
  {
   "cell_type": "code",
   "execution_count": null,
   "metadata": {},
   "outputs": [],
   "source": [
    "def kmeros_frecuentes_aprox(secuencia, k, d):\n",
    "    #Tu código aquí"
   ]
  },
  {
   "cell_type": "code",
   "execution_count": null,
   "metadata": {},
   "outputs": [],
   "source": [
    "%time resultados  = kmeros_frecuentes_aprox(ec_genoma[3923620:3923620+500], 9, 1) # tarda mucho! Dale tiempo"
   ]
  },
  {
   "cell_type": "code",
   "execution_count": null,
   "metadata": {},
   "outputs": [],
   "source": [
    "len(resultados)"
   ]
  },
  {
   "cell_type": "code",
   "execution_count": null,
   "metadata": {},
   "outputs": [],
   "source": [
    "valor_max = max(resultados.values())"
   ]
  },
  {
   "cell_type": "code",
   "execution_count": null,
   "metadata": {},
   "outputs": [],
   "source": [
    "top_kmeros = []\n",
    "for k,v in resultados.items():\n",
    "    if v == valor_max:\n",
    "        top_kmeros.append(k)\n",
    "\n",
    "print(top_kmeros, valor_max)\n",
    "        "
   ]
  },
  {
   "cell_type": "markdown",
   "metadata": {},
   "source": [
    "¿Qué ocurre aquí? Parece que hay bastantes k-meros que aparecen 4 veces en la región que hemos identificado como el origen de replicación...¿Cuál de ellos podría ser la caja DnaA?\n",
    "\n",
    "Vamos a intentar agrupar los resultados considerando que:\n",
    "1. La caja puede aparecer como una cadena o su inversa complementaria.\n",
    "2. La caja puede contener mutaciones de, como mucho en este caso, 1 elemento. Por lo tanto, a todos los efectos, las cadenas que difieran en 1 caracter de una cadena cadena (o de su inversa complementaria) irán al mismo grupo que dicha cadena."
   ]
  },
  {
   "cell_type": "code",
   "execution_count": null,
   "metadata": {},
   "outputs": [],
   "source": [
    "def agrupa_resultados(top_kmeros):\n",
    "    grupos = []\n",
    "    while len(top_kmeros) > 0:\n",
    "        kmero = top_kmeros.pop()\n",
    "        grupo_temp = [kmero]\n",
    "        for i in range(len(top_kmeros)):\n",
    "            if distancia(kmero, top_kmeros[i]) <= 1 or kmero == misfunciones.inv_comp(top_kmeros[i]) or distancia(misfunciones.inv_comp(kmero), top_kmeros[i]) <= 1:\n",
    "                grupo_temp.append(top_kmeros[i])\n",
    "\n",
    "        top_kmeros = [kmero for kmero in top_kmeros if kmero not in grupo_temp]\n",
    "        grupos.append(sorted(grupo_temp)) # ordenamos cada grupo lexicográficamente para ver sus diferencias.\n",
    "    \n",
    "    return sorted(grupos, key=lambda kmeros: kmeros[0]) # mantenemos el orden lexicográfico en la lista de grupos"
   ]
  },
  {
   "cell_type": "code",
   "execution_count": null,
   "metadata": {
    "scrolled": true
   },
   "outputs": [],
   "source": [
    "agrupa_resultados(top_kmeros)"
   ]
  },
  {
   "cell_type": "markdown",
   "metadata": {},
   "source": [
    "Enhorabuena, has encontrado la caja DnaA en E.Coli!!!! "
   ]
  },
  {
   "cell_type": "code",
   "execution_count": null,
   "metadata": {},
   "outputs": [],
   "source": []
  }
 ],
 "metadata": {
  "kernelspec": {
   "display_name": "Python 3",
   "language": "python",
   "name": "python3"
  },
  "language_info": {
   "codemirror_mode": {
    "name": "ipython",
    "version": 3
   },
   "file_extension": ".py",
   "mimetype": "text/x-python",
   "name": "python",
   "nbconvert_exporter": "python",
   "pygments_lexer": "ipython3",
   "version": "3.7.4"
  }
 },
 "nbformat": 4,
 "nbformat_minor": 4
}
