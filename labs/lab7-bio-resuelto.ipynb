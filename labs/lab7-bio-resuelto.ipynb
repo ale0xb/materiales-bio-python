{
 "cells": [
  {
   "cell_type": "code",
   "execution_count": 1,
   "metadata": {},
   "outputs": [],
   "source": [
    "import misfunciones, itertools"
   ]
  },
  {
   "cell_type": "markdown",
   "metadata": {},
   "source": [
    "### Lab 7 - Optimizando y acelerando nuestros algoritmos 🏎🏁"
   ]
  },
  {
   "cell_type": "markdown",
   "metadata": {},
   "source": [
    "En la última parte del lab 6, vimos cómo efectuar una búsqueda _difusa_ de k-meros en una secuencia empleando la distancia de Hamming, que calculábamos en la función `distancia(kmero_1, kmero_2)`:"
   ]
  },
  {
   "cell_type": "code",
   "execution_count": 2,
   "metadata": {},
   "outputs": [],
   "source": [
    "def distancia(kmero_1, kmero_2):\n",
    "    contador_difs = 0\n",
    "    for c, b in zip(kmero_1, kmero_2):\n",
    "        if c != b:\n",
    "            contador_difs += 1\n",
    "    return contador_difs"
   ]
  },
  {
   "cell_type": "markdown",
   "metadata": {},
   "source": [
    "Usando `distancia(kmero_1, kmero_2)`, pudimos implementar otra función `cuenta_kmero_aprox(secuencia, kmero, d)` que devolvía cuántas veces aparecía un k-mero en una secuencia permitiendo variaciones en `d` letras:"
   ]
  },
  {
   "cell_type": "code",
   "execution_count": 3,
   "metadata": {},
   "outputs": [],
   "source": [
    "def cuenta_kmero_aprox(secuencia, kmero, d):\n",
    "    cuenta = 0\n",
    "    for i in range(len(secuencia) - len(kmero) + 1):\n",
    "        if distancia(secuencia[i:i+len(kmero)], kmero) <= d:\n",
    "            cuenta += 1\n",
    "        if distancia(secuencia[i:i+len(kmero)], misfunciones.inv_comp(kmero)) <= d:\n",
    "            cuenta += 1\n",
    "    return cuenta"
   ]
  },
  {
   "cell_type": "markdown",
   "metadata": {},
   "source": [
    "Finalmente, generamos un _mapa de frecuencias_ para k-meros permitiendo al menos variaciones en `d` letras con la función:"
   ]
  },
  {
   "cell_type": "code",
   "execution_count": 4,
   "metadata": {},
   "outputs": [],
   "source": [
    "def kmeros_frecuentes_aprox(secuencia, k, d):\n",
    "    freq = {}\n",
    "    n = len(secuencia)\n",
    "    todos_kmeros = list([\"\".join(kmero) for kmero in itertools.product(\"ACGT\", repeat=k)])\n",
    "    for kmero in todos_kmeros:\n",
    "        frec = cuenta_kmero_aprox(secuencia, kmero, d)\n",
    "        freq[kmero] = frec\n",
    "    return freq"
   ]
  },
  {
   "cell_type": "code",
   "execution_count": 5,
   "metadata": {},
   "outputs": [],
   "source": [
    "def lee_genoma(ruta_fichero):\n",
    "  fd = open(ruta_fichero)\n",
    "  genome = fd.read()\n",
    "  fd.close()\n",
    "  return genome"
   ]
  },
  {
   "cell_type": "code",
   "execution_count": 6,
   "metadata": {},
   "outputs": [],
   "source": [
    "ec_genoma = lee_genoma('../data/E-coli.txt')"
   ]
  },
  {
   "cell_type": "code",
   "execution_count": 7,
   "metadata": {},
   "outputs": [
    {
     "ename": "KeyboardInterrupt",
     "evalue": "",
     "output_type": "error",
     "traceback": [
      "\u001b[0;31m---------------------------------------------------------------------------\u001b[0m",
      "\u001b[0;31mKeyboardInterrupt\u001b[0m                         Traceback (most recent call last)",
      "\u001b[0;32m<timed exec>\u001b[0m in \u001b[0;36m<module>\u001b[0;34m\u001b[0m\n",
      "\u001b[0;32m<ipython-input-4-9e079d6ca6a9>\u001b[0m in \u001b[0;36mkmeros_frecuentes_aprox\u001b[0;34m(secuencia, k, d)\u001b[0m\n\u001b[1;32m      4\u001b[0m     \u001b[0mtodos_kmeros\u001b[0m \u001b[0;34m=\u001b[0m \u001b[0mlist\u001b[0m\u001b[0;34m(\u001b[0m\u001b[0;34m[\u001b[0m\u001b[0;34m\"\"\u001b[0m\u001b[0;34m.\u001b[0m\u001b[0mjoin\u001b[0m\u001b[0;34m(\u001b[0m\u001b[0mkmero\u001b[0m\u001b[0;34m)\u001b[0m \u001b[0;32mfor\u001b[0m \u001b[0mkmero\u001b[0m \u001b[0;32min\u001b[0m \u001b[0mitertools\u001b[0m\u001b[0;34m.\u001b[0m\u001b[0mproduct\u001b[0m\u001b[0;34m(\u001b[0m\u001b[0;34m\"ACGT\"\u001b[0m\u001b[0;34m,\u001b[0m \u001b[0mrepeat\u001b[0m\u001b[0;34m=\u001b[0m\u001b[0mk\u001b[0m\u001b[0;34m)\u001b[0m\u001b[0;34m]\u001b[0m\u001b[0;34m)\u001b[0m\u001b[0;34m\u001b[0m\u001b[0;34m\u001b[0m\u001b[0m\n\u001b[1;32m      5\u001b[0m     \u001b[0;32mfor\u001b[0m \u001b[0mkmero\u001b[0m \u001b[0;32min\u001b[0m \u001b[0mtodos_kmeros\u001b[0m\u001b[0;34m:\u001b[0m\u001b[0;34m\u001b[0m\u001b[0;34m\u001b[0m\u001b[0m\n\u001b[0;32m----> 6\u001b[0;31m         \u001b[0mfrec\u001b[0m \u001b[0;34m=\u001b[0m \u001b[0mcuenta_kmero_aprox\u001b[0m\u001b[0;34m(\u001b[0m\u001b[0msecuencia\u001b[0m\u001b[0;34m,\u001b[0m \u001b[0mkmero\u001b[0m\u001b[0;34m,\u001b[0m \u001b[0md\u001b[0m\u001b[0;34m)\u001b[0m\u001b[0;34m\u001b[0m\u001b[0;34m\u001b[0m\u001b[0m\n\u001b[0m\u001b[1;32m      7\u001b[0m         \u001b[0mfreq\u001b[0m\u001b[0;34m[\u001b[0m\u001b[0mkmero\u001b[0m\u001b[0;34m]\u001b[0m \u001b[0;34m=\u001b[0m \u001b[0mfrec\u001b[0m\u001b[0;34m\u001b[0m\u001b[0;34m\u001b[0m\u001b[0m\n\u001b[1;32m      8\u001b[0m     \u001b[0;32mreturn\u001b[0m \u001b[0mfreq\u001b[0m\u001b[0;34m\u001b[0m\u001b[0;34m\u001b[0m\u001b[0m\n",
      "\u001b[0;32m<ipython-input-3-874fa361a0e5>\u001b[0m in \u001b[0;36mcuenta_kmero_aprox\u001b[0;34m(secuencia, kmero, d)\u001b[0m\n\u001b[1;32m      4\u001b[0m         \u001b[0;32mif\u001b[0m \u001b[0mdistancia\u001b[0m\u001b[0;34m(\u001b[0m\u001b[0msecuencia\u001b[0m\u001b[0;34m[\u001b[0m\u001b[0mi\u001b[0m\u001b[0;34m:\u001b[0m\u001b[0mi\u001b[0m\u001b[0;34m+\u001b[0m\u001b[0mlen\u001b[0m\u001b[0;34m(\u001b[0m\u001b[0mkmero\u001b[0m\u001b[0;34m)\u001b[0m\u001b[0;34m]\u001b[0m\u001b[0;34m,\u001b[0m \u001b[0mkmero\u001b[0m\u001b[0;34m)\u001b[0m \u001b[0;34m<=\u001b[0m \u001b[0md\u001b[0m\u001b[0;34m:\u001b[0m\u001b[0;34m\u001b[0m\u001b[0;34m\u001b[0m\u001b[0m\n\u001b[1;32m      5\u001b[0m             \u001b[0mcuenta\u001b[0m \u001b[0;34m+=\u001b[0m \u001b[0;36m1\u001b[0m\u001b[0;34m\u001b[0m\u001b[0;34m\u001b[0m\u001b[0m\n\u001b[0;32m----> 6\u001b[0;31m         \u001b[0;32mif\u001b[0m \u001b[0mdistancia\u001b[0m\u001b[0;34m(\u001b[0m\u001b[0msecuencia\u001b[0m\u001b[0;34m[\u001b[0m\u001b[0mi\u001b[0m\u001b[0;34m:\u001b[0m\u001b[0mi\u001b[0m\u001b[0;34m+\u001b[0m\u001b[0mlen\u001b[0m\u001b[0;34m(\u001b[0m\u001b[0mkmero\u001b[0m\u001b[0;34m)\u001b[0m\u001b[0;34m]\u001b[0m\u001b[0;34m,\u001b[0m \u001b[0mmisfunciones\u001b[0m\u001b[0;34m.\u001b[0m\u001b[0minv_comp\u001b[0m\u001b[0;34m(\u001b[0m\u001b[0mkmero\u001b[0m\u001b[0;34m)\u001b[0m\u001b[0;34m)\u001b[0m \u001b[0;34m<=\u001b[0m \u001b[0md\u001b[0m\u001b[0;34m:\u001b[0m\u001b[0;34m\u001b[0m\u001b[0;34m\u001b[0m\u001b[0m\n\u001b[0m\u001b[1;32m      7\u001b[0m             \u001b[0mcuenta\u001b[0m \u001b[0;34m+=\u001b[0m \u001b[0;36m1\u001b[0m\u001b[0;34m\u001b[0m\u001b[0;34m\u001b[0m\u001b[0m\n\u001b[1;32m      8\u001b[0m     \u001b[0;32mreturn\u001b[0m \u001b[0mcuenta\u001b[0m\u001b[0;34m\u001b[0m\u001b[0;34m\u001b[0m\u001b[0m\n",
      "\u001b[0;32m~/Documents/Docencia/materiales-bio-python/labs/misfunciones.py\u001b[0m in \u001b[0;36minv_comp\u001b[0;34m(secuencia)\u001b[0m\n\u001b[1;32m     20\u001b[0m \u001b[0;34m\u001b[0m\u001b[0m\n\u001b[1;32m     21\u001b[0m \u001b[0;32mdef\u001b[0m \u001b[0minv_comp\u001b[0m\u001b[0;34m(\u001b[0m\u001b[0msecuencia\u001b[0m\u001b[0;34m)\u001b[0m\u001b[0;34m:\u001b[0m\u001b[0;34m\u001b[0m\u001b[0;34m\u001b[0m\u001b[0m\n\u001b[0;32m---> 22\u001b[0;31m     \u001b[0;32mreturn\u001b[0m \u001b[0mcomp\u001b[0m\u001b[0;34m(\u001b[0m\u001b[0minv\u001b[0m\u001b[0;34m(\u001b[0m\u001b[0msecuencia\u001b[0m\u001b[0;34m)\u001b[0m\u001b[0;34m)\u001b[0m\u001b[0;34m\u001b[0m\u001b[0;34m\u001b[0m\u001b[0m\n\u001b[0m",
      "\u001b[0;32m~/Documents/Docencia/materiales-bio-python/labs/misfunciones.py\u001b[0m in \u001b[0;36mcomp\u001b[0;34m(secuencia)\u001b[0m\n\u001b[1;32m     11\u001b[0m             \u001b[0mret_str\u001b[0m \u001b[0;34m+=\u001b[0m \u001b[0;34m'G'\u001b[0m\u001b[0;34m\u001b[0m\u001b[0;34m\u001b[0m\u001b[0m\n\u001b[1;32m     12\u001b[0m         \u001b[0;32melif\u001b[0m \u001b[0mc\u001b[0m \u001b[0;34m==\u001b[0m \u001b[0;34m'T'\u001b[0m\u001b[0;34m:\u001b[0m\u001b[0;34m\u001b[0m\u001b[0;34m\u001b[0m\u001b[0m\n\u001b[0;32m---> 13\u001b[0;31m             \u001b[0mret_str\u001b[0m \u001b[0;34m+=\u001b[0m \u001b[0;34m'A'\u001b[0m\u001b[0;34m\u001b[0m\u001b[0;34m\u001b[0m\u001b[0m\n\u001b[0m\u001b[1;32m     14\u001b[0m         \u001b[0;32melif\u001b[0m \u001b[0mc\u001b[0m \u001b[0;34m==\u001b[0m \u001b[0;34m'G'\u001b[0m\u001b[0;34m:\u001b[0m\u001b[0;34m\u001b[0m\u001b[0;34m\u001b[0m\u001b[0m\n\u001b[1;32m     15\u001b[0m             \u001b[0mret_str\u001b[0m \u001b[0;34m+=\u001b[0m \u001b[0;34m'C'\u001b[0m\u001b[0;34m\u001b[0m\u001b[0;34m\u001b[0m\u001b[0m\n",
      "\u001b[0;31mKeyboardInterrupt\u001b[0m: "
     ]
    }
   ],
   "source": [
    "%time resultados  = kmeros_frecuentes_aprox(ec_genoma[3923620:3923620+500], 9, 1) # tarda mucho! ¿Cómo lo arreglamos?"
   ]
  },
  {
   "cell_type": "markdown",
   "metadata": {},
   "source": [
    "Sin embargo, también pudimos comprobar que este algoritmo tardaba bastante en ejecutarse, ya un requisito era generar previamente los $4^{k}$ k-meros posibles. Una pregunta que quedó en el aire era cómo podíamos acelerar este algoritmo: vamos a verlo. \n",
    "\n",
    "## Optimizando\n",
    "La optimización en este caso la vamos a conseguir considerando sólo el grupo de k-meros que tengan una distancia `d` o inferior a cualquier k-mero que aparezca en la secuencia. A estos grupos, los denominaremos `d-vecindarios`.\n",
    "\n",
    "Por ejemplo, el 1-vecindario (vecinos inmediatos) del 3-mero `ACG` es: `{ACG, ACG CCG GCG TCG AAG AGG ATG ACA ACC ACT}` (nótese que se incluye el \"vecino\" originario del vecindario). \n",
    "\n",
    "Como ves, el tamaño del d-vecindario de un k-mero dependerá del número de símbolos del alfabeto y la longitud del k-mero.\n",
    "\n",
    "__Pregunta: ¿Cuántos vecinos tendrá el vecindario de un k-mero (para el alfabeto del ADN)?__\n",
    "\n",
    "\n",
    "Vamos a implementar la función `vecinos_directos(kmero, alfabeto)`, que nos devolverá el conjunto de vecinos directos para un k-mero y un alfabeto:"
   ]
  },
  {
   "cell_type": "code",
   "execution_count": 17,
   "metadata": {},
   "outputs": [],
   "source": [
    "def vecinos_directos(kmero, alfabeto):\n",
    "    vecindario = set([kmero])\n",
    "    elementos_kmero = list(kmero)\n",
    "    for i, b in enumerate(elementos_kmero):\n",
    "        for letra in alfabeto:\n",
    "            if letra == b:\n",
    "                continue\n",
    "            vecino = elementos_kmero[:]\n",
    "            vecino[i] = letra\n",
    "            vecindario.add(\"\".join(vecino))\n",
    "    return vecindario"
   ]
  },
  {
   "cell_type": "code",
   "execution_count": 18,
   "metadata": {},
   "outputs": [
    {
     "data": {
      "text/plain": [
       "{'AAG', 'ACA', 'ACC', 'ACG', 'ACT', 'AGG', 'ATG', 'CCG', 'GCG', 'TCG'}"
      ]
     },
     "execution_count": 18,
     "metadata": {},
     "output_type": "execute_result"
    }
   ],
   "source": [
    "vecinos_directos('ACG', ('A', 'C', 'T', 'G'))"
   ]
  },
  {
   "cell_type": "markdown",
   "metadata": {},
   "source": [
    "### d-vecindarios\n",
    "La función que hemos implementado genera el 1_vecindario (vecinos directos) para un k-mero, ¡pero recuerda que la búsqueda difusa puede permitir más modificaciones!\n",
    "\n",
    "__Pregunta: Piensa cómo generarías el d-vecindario de un k-mero dado. Acaba de implementar la función que te doy en la siguiente celda.__\n"
   ]
  },
  {
   "cell_type": "code",
   "execution_count": 19,
   "metadata": {},
   "outputs": [],
   "source": [
    "def vecindario(kmero, alfabeto, d):\n",
    "    vecindario = set([kmero])\n",
    "    for i in range(d):\n",
    "        i_vecinos = set()\n",
    "        for vecino in vecindario:\n",
    "            i_vecinos = i_vecinos | vecinos_directos(vecino, alfabeto)\n",
    "        vecindario = vecindario | i_vecinos\n",
    "    return vecindario "
   ]
  },
  {
   "cell_type": "code",
   "execution_count": 20,
   "metadata": {},
   "outputs": [
    {
     "data": {
      "text/plain": [
       "{'AAAT',\n",
       " 'AACT',\n",
       " 'AAGA',\n",
       " 'AAGC',\n",
       " 'AAGG',\n",
       " 'AAGT',\n",
       " 'AATT',\n",
       " 'ACAA',\n",
       " 'ACAC',\n",
       " 'ACAG',\n",
       " 'ACAT',\n",
       " 'ACCA',\n",
       " 'ACCC',\n",
       " 'ACCG',\n",
       " 'ACCT',\n",
       " 'ACGA',\n",
       " 'ACGC',\n",
       " 'ACGG',\n",
       " 'ACGT',\n",
       " 'ACTA',\n",
       " 'ACTC',\n",
       " 'ACTG',\n",
       " 'ACTT',\n",
       " 'AGAT',\n",
       " 'AGCT',\n",
       " 'AGGA',\n",
       " 'AGGC',\n",
       " 'AGGG',\n",
       " 'AGGT',\n",
       " 'AGTT',\n",
       " 'ATAT',\n",
       " 'ATCT',\n",
       " 'ATGA',\n",
       " 'ATGC',\n",
       " 'ATGG',\n",
       " 'ATGT',\n",
       " 'ATTT',\n",
       " 'CAGT',\n",
       " 'CCAT',\n",
       " 'CCCT',\n",
       " 'CCGA',\n",
       " 'CCGC',\n",
       " 'CCGG',\n",
       " 'CCGT',\n",
       " 'CCTT',\n",
       " 'CGGT',\n",
       " 'CTGT',\n",
       " 'GAGT',\n",
       " 'GCAT',\n",
       " 'GCCT',\n",
       " 'GCGA',\n",
       " 'GCGC',\n",
       " 'GCGG',\n",
       " 'GCGT',\n",
       " 'GCTT',\n",
       " 'GGGT',\n",
       " 'GTGT',\n",
       " 'TAGT',\n",
       " 'TCAT',\n",
       " 'TCCT',\n",
       " 'TCGA',\n",
       " 'TCGC',\n",
       " 'TCGG',\n",
       " 'TCGT',\n",
       " 'TCTT',\n",
       " 'TGGT',\n",
       " 'TTGT'}"
      ]
     },
     "execution_count": 20,
     "metadata": {},
     "output_type": "execute_result"
    }
   ],
   "source": [
    "vecindario('ACGT', ('A', 'C', 'T', 'G'), 2)"
   ]
  },
  {
   "cell_type": "markdown",
   "metadata": {},
   "source": [
    "### Sólo los vecinos\n",
    "Ahora que ya sabemos encontrar el d-vecindario de un k-mero, podemos modificar nuestro algoritmo para generar mapas de frecuencias siguiendo nuestro razonamiento inicial. \n",
    "\n",
    "__Pregunta: Modifica la función kmeros_frecuentes_aprox para que considere sólo los k-meros que sean miembros de algún vecindario de todos los k-meros que aparezcan en la secuencia. Mide el tiempo que tarda en ejecutarse con la magia `%time`. ¿Es esta diferencia la que esperabas?__"
   ]
  },
  {
   "cell_type": "code",
   "execution_count": 22,
   "metadata": {},
   "outputs": [],
   "source": [
    "def kmeros_frecuentes_aprox_vecindarios(secuencia, k, d, alfabeto):\n",
    "    freq = {}\n",
    "    cercanos = []\n",
    "    \n",
    "    for i in range(len(secuencia) - k + 1):\n",
    "        vecindario_actual = vecindario(secuencia[i:i+k], alfabeto, d)\n",
    "        for vecino in vecindario_actual:\n",
    "            cercanos.append(vecino)\n",
    "    \n",
    "    cercanos = list(set(cercanos))\n",
    "    for cercano in cercanos:\n",
    "        freq[cercano] = cuenta_kmero_aprox(secuencia, cercano, d)\n",
    "    \n",
    "    return freq"
   ]
  },
  {
   "cell_type": "code",
   "execution_count": 28,
   "metadata": {},
   "outputs": [
    {
     "name": "stdout",
     "output_type": "stream",
     "text": [
      "CPU times: user 30.6 s, sys: 115 ms, total: 30.7 s\n",
      "Wall time: 30.8 s\n"
     ]
    }
   ],
   "source": [
    "%time resultados = kmeros_frecuentes_aprox_vecindarios(ec_genoma[3923620:3923620+500], 9, 1, ('A', 'C', 'T', 'G'))"
   ]
  },
  {
   "cell_type": "code",
   "execution_count": 29,
   "metadata": {},
   "outputs": [
    {
     "data": {
      "text/plain": [
       "13132"
      ]
     },
     "execution_count": 29,
     "metadata": {},
     "output_type": "execute_result"
    }
   ],
   "source": [
    "len(resultados)"
   ]
  },
  {
   "cell_type": "code",
   "execution_count": 30,
   "metadata": {},
   "outputs": [
    {
     "name": "stdout",
     "output_type": "stream",
     "text": [
      "['GTGGATAAC', 'GATCAACAG', 'TTATTCACA', 'AGATCTCTT', 'CCAGGATCC', 'CTGTTGATC', 'CAGAAGATC', 'AGCTGGGAT', 'CTGGGATCA', 'TGATCCCAG', 'GGATCCTGG', 'GCTGGGATC', 'TCTGGATAA', 'TGTGAATAA', 'AATGATCCG', 'GTTATCCAC', 'TGGATAACC', 'TGTGGATAA', 'AAGGATCCT', 'AAGAGATCT', 'AGGATCCTT', 'AGAACAACA', 'CGGATCATT', 'GATCTTCTG', 'TGATCAACA', 'TTATCCACA', 'AGGATCAAC', 'TGTTGTTCT', 'TTATCCAGA', 'GTTGATCCT', 'TGTTGATCA', 'GGTTATCCA', 'ATCCCAGCT', 'GATCCCAGC'] 4\n"
     ]
    }
   ],
   "source": [
    "valor_max = max(resultados.values())\n",
    "top_kmeros = []\n",
    "for k,v in resultados.items():\n",
    "    if v == valor_max:\n",
    "        top_kmeros.append(k)\n",
    "\n",
    "print(top_kmeros, valor_max)"
   ]
  },
  {
   "cell_type": "code",
   "execution_count": 31,
   "metadata": {},
   "outputs": [],
   "source": [
    "def agrupa_resultados(top_kmeros):\n",
    "    grupos = []\n",
    "    while len(top_kmeros) > 0:\n",
    "        kmero = top_kmeros.pop()\n",
    "        grupo_temp = [kmero]\n",
    "        for i in range(len(top_kmeros)):\n",
    "            if distancia(kmero, top_kmeros[i]) <= 1 or kmero == misfunciones.inv_comp(top_kmeros[i]) or distancia(misfunciones.inv_comp(kmero), top_kmeros[i]) <= 1:\n",
    "                grupo_temp.append(top_kmeros[i])\n",
    "\n",
    "        top_kmeros = [kmero for kmero in top_kmeros if kmero not in grupo_temp]\n",
    "        grupos.append(sorted(grupo_temp)) # ordenamos cada grupo lexicográficamente para ver sus diferencias.\n",
    "    \n",
    "    return sorted(grupos, key=lambda kmeros: kmeros[0]) # mantenemos el orden lexicográfico en la lista de grupos"
   ]
  },
  {
   "cell_type": "code",
   "execution_count": 32,
   "metadata": {},
   "outputs": [
    {
     "data": {
      "text/plain": [
       "[['AAGAGATCT', 'AGATCTCTT'],\n",
       " ['AAGGATCCT', 'AGGATCCTT'],\n",
       " ['AATGATCCG', 'CGGATCATT'],\n",
       " ['AGAACAACA', 'TGTTGTTCT'],\n",
       " ['AGCTGGGAT', 'ATCCCAGCT'],\n",
       " ['AGGATCAAC', 'GTTGATCCT'],\n",
       " ['CAGAAGATC', 'GATCTTCTG'],\n",
       " ['CCAGGATCC', 'GGATCCTGG'],\n",
       " ['CTGGGATCA', 'TGATCCCAG'],\n",
       " ['CTGTTGATC', 'GATCAACAG'],\n",
       " ['GATCCCAGC', 'GCTGGGATC'],\n",
       " ['GGTTATCCA', 'TGGATAACC'],\n",
       " ['GTGGATAAC', 'GTTATCCAC'],\n",
       " ['TCTGGATAA', 'TGTGGATAA', 'TTATCCACA', 'TTATCCAGA'],\n",
       " ['TGATCAACA', 'TGTTGATCA'],\n",
       " ['TGTGAATAA', 'TTATTCACA']]"
      ]
     },
     "execution_count": 32,
     "metadata": {},
     "output_type": "execute_result"
    }
   ],
   "source": [
    "agrupa_resultados(top_kmeros)"
   ]
  },
  {
   "cell_type": "code",
   "execution_count": null,
   "metadata": {},
   "outputs": [],
   "source": []
  }
 ],
 "metadata": {
  "kernelspec": {
   "display_name": "Python 3",
   "language": "python",
   "name": "python3"
  },
  "language_info": {
   "codemirror_mode": {
    "name": "ipython",
    "version": 3
   },
   "file_extension": ".py",
   "mimetype": "text/x-python",
   "name": "python",
   "nbconvert_exporter": "python",
   "pygments_lexer": "ipython3",
   "version": "3.7.5"
  }
 },
 "nbformat": 4,
 "nbformat_minor": 4
}
