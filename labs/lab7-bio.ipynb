{
 "cells": [
  {
   "cell_type": "code",
   "execution_count": null,
   "metadata": {},
   "outputs": [],
   "source": [
    "import misfunciones"
   ]
  },
  {
   "cell_type": "markdown",
   "metadata": {},
   "source": [
    "### Lab 7 - Optimizando y acelerando nuestros algoritmos 🏎🏁"
   ]
  },
  {
   "cell_type": "markdown",
   "metadata": {},
   "source": [
    "En la última parte del lab 6, vimos cómo efectuar una búsqueda _difusa_ de k-meros en una secuencia empleando la distancia de Hamming, que calculábamos en la función `distancia(kmero_1, kmero_2)`:"
   ]
  },
  {
   "cell_type": "code",
   "execution_count": null,
   "metadata": {},
   "outputs": [],
   "source": [
    "def distancia(kmero_1, kmero_2):\n",
    "    contador_difs = 0\n",
    "    for c, b in zip(kmero_1, kmero_2):\n",
    "        if c != b:\n",
    "            contador_difs += 1\n",
    "    return contador_difs"
   ]
  },
  {
   "cell_type": "markdown",
   "metadata": {},
   "source": [
    "Usando `distancia(kmero_1, kmero_2)`, pudimos implementar otra función `cuenta_kmero_aprox(secuencia, kmero, d)` que devolvía cuántas veces aparecía un k-mero en una secuencia permitiendo variaciones en `d` letras:"
   ]
  },
  {
   "cell_type": "code",
   "execution_count": null,
   "metadata": {},
   "outputs": [],
   "source": [
    "def cuenta_kmero_aprox(secuencia, kmero, d):\n",
    "    cuenta = 0\n",
    "    for i in range(len(secuencia) - len(kmero) + 1):\n",
    "        if distancia(secuencia[i:i+len(kmero)], kmero) <= d:\n",
    "            cuenta += 1\n",
    "        if distancia(secuencia[i:i+len(kmero)], misfunciones.inv_comp(kmero)) <= d:\n",
    "            cuenta += 1\n",
    "    return cuenta"
   ]
  },
  {
   "cell_type": "markdown",
   "metadata": {},
   "source": [
    "Finalmente, generamos un _mapa de frecuencias_ para k-meros permitiendo al menos variaciones en `d` letras con la función:"
   ]
  },
  {
   "cell_type": "code",
   "execution_count": null,
   "metadata": {},
   "outputs": [],
   "source": [
    "def kmeros_frecuentes_aprox(secuencia, k, d):\n",
    "    freq = {}\n",
    "    n = len(secuencia)\n",
    "    todos_kmeros = list([\"\".join(kmero) for kmero in itertools.product(\"ACGT\", repeat=k)])\n",
    "    for kmero in todos_kmeros:\n",
    "        frec = cuenta_kmero_aprox(secuencia, kmero, d)\n",
    "        freq[kmero] = frec\n",
    "    return freq"
   ]
  },
  {
   "cell_type": "code",
   "execution_count": null,
   "metadata": {},
   "outputs": [],
   "source": [
    "def lee_genoma(ruta_fichero):\n",
    "  fd = open(ruta_fichero)\n",
    "  genome = fd.read()\n",
    "  fd.close()\n",
    "  return genome"
   ]
  },
  {
   "cell_type": "code",
   "execution_count": null,
   "metadata": {},
   "outputs": [],
   "source": [
    "ec_genoma = lee_genoma('../data/E-coli.txt')"
   ]
  },
  {
   "cell_type": "code",
   "execution_count": null,
   "metadata": {},
   "outputs": [],
   "source": [
    "%time resultados  = kmeros_frecuentes_aprox(ec_genoma[3923620:3923620+500], 9, 1) # tarda mucho! ¿Cómo lo arreglamos?"
   ]
  },
  {
   "cell_type": "markdown",
   "metadata": {},
   "source": [
    "Sin embargo, también pudimos comprobar que este algoritmo tardaba bastante en ejecutarse, ya un requisito era generar previamente los $4^{k}$ k-meros posibles. Una pregunta que quedó en el aire era cómo podíamos acelerar este algoritmo: vamos a verlo. \n",
    "\n",
    "## Optimizando\n",
    "La optimización en este caso la vamos a conseguir considerando sólo el grupo de k-meros que tengan una distancia `d` o inferior a cualquier k-mero que aparezca en la secuencia. A estos grupos, los denominaremos `d-vecindarios`.\n",
    "\n",
    "Por ejemplo, el 1-vecindario (vecinos inmediatos) del 3-mero `ACG` es: `{ACG, ACG CCG GCG TCG AAG AGG ATG ACA ACC ACT}` (nótese que se incluye el \"vecino\" originario del vecindario). \n",
    "\n",
    "Como ves, el tamaño del d-vecindario de un k-mero dependerá del número de símbolos del alfabeto y la longitud del k-mero.\n",
    "\n",
    "__Pregunta: ¿Cuántos vecinos tendrá el vecindario de un k-mero (para el alfabeto del ADN)?__\n",
    "\n",
    "\n",
    "Vamos a implementar la función `vecinos_directos(kmero, alfabeto)`, que nos devolverá el conjunto de vecinos directos para un k-mero y un alfabeto:"
   ]
  },
  {
   "cell_type": "code",
   "execution_count": null,
   "metadata": {},
   "outputs": [],
   "source": [
    "def vecinos_directos(kmero, alfabeto):\n",
    "    #Tu código aquí"
   ]
  },
  {
   "cell_type": "code",
   "execution_count": null,
   "metadata": {},
   "outputs": [],
   "source": [
    "vecinos_directos('ACG', ('A', 'C', 'T', 'G'))"
   ]
  },
  {
   "cell_type": "markdown",
   "metadata": {},
   "source": [
    "### d-vecindarios\n",
    "La función que hemos implementado genera el 1_vecindario (vecinos directos) para un k-mero, ¡pero recuerda que la búsqueda difusa puede permitir más modificaciones!\n",
    "\n",
    "__Pregunta: Piensa cómo generarías el d-vecindario de un k-mero dado. Acaba de implementar la función que te doy en la siguiente celda.__\n"
   ]
  },
  {
   "cell_type": "code",
   "execution_count": null,
   "metadata": {},
   "outputs": [],
   "source": [
    "def vecindario(kmero, alfabeto, d):\n",
    "    #Tu código aquí "
   ]
  },
  {
   "cell_type": "code",
   "execution_count": null,
   "metadata": {},
   "outputs": [],
   "source": [
    "vecindario('ACGT', ('A', 'C', 'T', 'G'), 2)"
   ]
  },
  {
   "cell_type": "markdown",
   "metadata": {},
   "source": [
    "### Sólo los vecinos\n",
    "Ahora que ya sabemos encontrar el d-vecindario de un k-mero, podemos modificar nuestro algoritmo para generar mapas de frecuencias siguiendo nuestro razonamiento inicial. \n",
    "\n",
    "__Pregunta: Modifica la función kmeros_frecuentes_aprox para que considere sólo los k-meros que sean miembros de algún vecindario de todos los k-meros que aparezcan en la secuencia. Mide el tiempo que tarda en ejecutarse con la magia `%time` y compárala con la que obtuviste con la versión de \"fuerza bruta\" del algoritmo en el anterior lab.__"
   ]
  },
  {
   "cell_type": "code",
   "execution_count": null,
   "metadata": {},
   "outputs": [],
   "source": [
    "def kmeros_frecuentes_aprox_vecindarios(secuencia, k, d, alfabeto):\n",
    "    #Tu código aquí"
   ]
  },
  {
   "cell_type": "code",
   "execution_count": null,
   "metadata": {},
   "outputs": [],
   "source": [
    "%time resultados = kmeros_frecuentes_aprox_vecindarios(ec_genoma[3923620:3923620+500], 9, 1, ('A', 'C', 'T', 'G'))"
   ]
  },
  {
   "cell_type": "code",
   "execution_count": null,
   "metadata": {},
   "outputs": [],
   "source": [
    "len(resultados)"
   ]
  },
  {
   "cell_type": "markdown",
   "metadata": {},
   "source": [
    "### Encontrado cajas DnaA en E.Coli (pero más rápido!)\n",
    "Finalmente, podemos analizar el mapa de frecuencias para sacar las cajas DnaA. ¡Comprueba que los resultados son iguales a los obtenidos en el anterior lab! "
   ]
  },
  {
   "cell_type": "code",
   "execution_count": null,
   "metadata": {},
   "outputs": [],
   "source": [
    "valor_max = max(resultados.values())\n",
    "top_kmeros = []\n",
    "for k,v in resultados.items():\n",
    "    if v == valor_max:\n",
    "        top_kmeros.append(k)\n",
    "\n",
    "print(top_kmeros, valor_max)"
   ]
  },
  {
   "cell_type": "code",
   "execution_count": null,
   "metadata": {},
   "outputs": [],
   "source": [
    "def agrupa_resultados(top_kmeros):\n",
    "    grupos = []\n",
    "    while len(top_kmeros) > 0:\n",
    "        kmero = top_kmeros.pop()\n",
    "        grupo_temp = [kmero]\n",
    "        for i in range(len(top_kmeros)):\n",
    "            if distancia(kmero, top_kmeros[i]) <= 1 or kmero == misfunciones.inv_comp(top_kmeros[i]) or distancia(misfunciones.inv_comp(kmero), top_kmeros[i]) <= 1:\n",
    "                grupo_temp.append(top_kmeros[i])\n",
    "\n",
    "        top_kmeros = [kmero for kmero in top_kmeros if kmero not in grupo_temp]\n",
    "        grupos.append(sorted(grupo_temp)) # ordenamos cada grupo lexicográficamente para ver sus diferencias.\n",
    "    \n",
    "    return sorted(grupos, key=lambda kmeros: kmeros[0]) # mantenemos el orden lexicográfico en la lista de grupos"
   ]
  },
  {
   "cell_type": "code",
   "execution_count": null,
   "metadata": {},
   "outputs": [],
   "source": [
    "agrupa_resultados(top_kmeros)"
   ]
  },
  {
   "cell_type": "markdown",
   "metadata": {},
   "source": [
    "### Conclusión\n",
    "Como ves, muchas veces el proceso de optimización de un algoritmo implica identificar repeticiones excesivas de líneas de código y aplicar ciertas _heurísticas_ para guiar la búsqueda.\n",
    "\n",
    "__Pregunta: ¿Es la diferencia en tiempos la esperada? ¿Cómo podrías haber \"previsto\" cuál sería la reducción en el tiempo de ejecución? Calcúlala y comprueba si lo obtenido empíricamente se ajusta a tu predicción.__"
   ]
  },
  {
   "cell_type": "code",
   "execution_count": null,
   "metadata": {},
   "outputs": [],
   "source": []
  }
 ],
 "metadata": {
  "kernelspec": {
   "display_name": "Python 3",
   "language": "python",
   "name": "python3"
  },
  "language_info": {
   "codemirror_mode": {
    "name": "ipython",
    "version": 3
   },
   "file_extension": ".py",
   "mimetype": "text/x-python",
   "name": "python",
   "nbconvert_exporter": "python",
   "pygments_lexer": "ipython3",
   "version": "3.7.4"
  }
 },
 "nbformat": 4,
 "nbformat_minor": 4
}
