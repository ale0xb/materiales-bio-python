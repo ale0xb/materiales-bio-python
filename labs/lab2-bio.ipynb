{
 "cells": [
  {
   "cell_type": "markdown",
   "metadata": {},
   "source": [
    "# Lab 2: Cadenas y Flujo\n",
    "## 1. Cadenas\n",
    "Como ya explicamos anteriormente, podemos definir variables de tipo cadena en Python de la siguiente manera:\n",
    "```python\n",
    "var1 = 'Esto es una cadena declarada con comillas simples'\n",
    "var2 = \"Esto es una cadena declarada con comillas dobles\"\n",
    "```\n",
    "\n",
    "### 1.1. Accediendo a los caracteres de una cadena\n",
    "Los caracteres que componen una cadena pueden ser accedidos individualmente. mediante la notación de corchetes \"[]\". Los caracteres son **subcadenas** de longitud 1 de la cadena original, aunque se pueden generar subcadenas de la longitud que se desee:"
   ]
  },
  {
   "cell_type": "code",
   "execution_count": null,
   "metadata": {},
   "outputs": [],
   "source": [
    "var1 = \"Hola mundo!\"\n",
    "var2 = \"Programo en Python!\"\n",
    "\n",
    "print (\"var1[4]: \", var1[5])\n",
    "print (\"var2[1:5]: \", var2[1:5])"
   ]
  },
  {
   "cell_type": "markdown",
   "metadata": {},
   "source": [
    "### 1.2. Reutilizando cadenas\n",
    "Usando la notación explicada, podemos reusar trozos de cadenas y modificarlos para crear nuevas instancias. "
   ]
  },
  {
   "cell_type": "code",
   "execution_count": null,
   "metadata": {},
   "outputs": [],
   "source": [
    "print(\"Nueva cadena :- \", var1[:5] + 'Python')"
   ]
  },
  {
   "cell_type": "markdown",
   "metadata": {},
   "source": [
    "### 1.3. Caracteres de escape\n",
    "Existen algunos caracteres llamados **de escape** que no son imprimibles, sino que son interpretados para realizar alguna acción dentro de la cadena a la que pertenecen. Esto caracteres se indican mediante el uso del backslash \"\\\". \n",
    "Los más famosos son el carácter de nueva línea (\\n) y el de tabulador (\\t). "
   ]
  },
  {
   "cell_type": "code",
   "execution_count": null,
   "metadata": {},
   "outputs": [],
   "source": [
    "print(\"Esta frase está dividida por \\nun retorno de carro.\\n\\nAdemás puedo añadir\\tun\\ttabulado usando '\\\\t'\\n\")"
   ]
  },
  {
   "cell_type": "markdown",
   "metadata": {},
   "source": [
    "### 1.4. Operadores de cadena\n",
    "De igual manera que se usan los caracteres \"*\" o \"+\" para realizar operaciones arítmeticas con variables de tipo int o float, podemos operar con variables de tipo cadena. Aquí se presentan las operaciones de cadena más comunes:"
   ]
  },
  {
   "cell_type": "code",
   "execution_count": null,
   "metadata": {},
   "outputs": [],
   "source": [
    "var1 = \"Hola\"\n",
    "var2 = \"Python\"\n",
    "\n",
    "#Concatenación +\n",
    "print (var1 + ' ' + var2 + '.')\n",
    "\n",
    "#Repetición *\n",
    "print (var1 * 5)\n",
    "\n",
    "#Porción []\n",
    "print (var1[1])\n",
    "\n",
    "#Rango [:]\n",
    "print (var2[2:4])\n",
    "\n",
    "#Pertenencia \"in\". Devuelve true si una secuencia aparece en la cadena\n",
    "print ('r' in var1)\n",
    "\n",
    "#Pertenencia \"not in\". Devuelve true si una secuencia no aparece en la cadena\n",
    "print ('Pt' not in var2)"
   ]
  },
  {
   "cell_type": "markdown",
   "metadata": {},
   "source": [
    "### 1.5. Formateando cadenas\n",
    "El formateo de cadenas consiste en insertar variables dentro de cadenas y darles un formato o apariencia dentro de las mismas. Para ello se usa el operador \"%\" (nada que ver con el operador módulo).\n",
    "Algunos ejemplos:"
   ]
  },
  {
   "cell_type": "code",
   "execution_count": null,
   "metadata": {},
   "outputs": [],
   "source": [
    "nombre = \"Isaac\"\n",
    "peso = 71.9\n",
    "edad = 18\n",
    "grados = -10.6\n",
    "\n",
    "#Cuando no necesitamos especificar el formateado, podemos usar simplemente:\n",
    "print (\"Me llamo \", nombre)\n",
    "print (\"Mi peso en kilos es \", peso)\n",
    "\n",
    "print (\"Me llamo %s, peso %d kg y tengo %d años!\" % (nombre, peso, edad)) \n",
    "#Otra notación\n",
    "print('Me llamo {}, peso {} kg y tengo {} años!'.format(nombre, peso, edad))\n",
    "\n",
    "print (\"En la calle hay %i grados\" % (grados))\n",
    "print (\"Perdón, quería decir %g grados!\" % (grados))\n",
    "\n",
    "print (\"Este es el caracter %c\" % ('c'))"
   ]
  },
  {
   "cell_type": "markdown",
   "metadata": {},
   "source": [
    "### 1.6. Métodos incorporados de cadenas\n",
    "Los métodos o funciones incorporadas son aquellos que vienen por defecto con el lenguaje. Ya hemos visto algunos en prácticas anteriores, como **len**, que devolvía la longitud de una cadena, o **str.replace**, que sustituye caracteres en una cadena. En el [manual](https://docs.python.org/3/library/stdtypes.html#string-methods) puedes encontrar todos los métodos existentes. A continuación van algunos ejemplos:"
   ]
  },
  {
   "cell_type": "code",
   "execution_count": null,
   "metadata": {},
   "outputs": [],
   "source": [
    "#str.find(str, beg = 0, end = len(string))\n",
    "#find determina si str aparece en la cadena dada (primer argumento). \n",
    "#El segundo y tercer argumento marcan las posicioes inicial y final en las que buscar.\n",
    "#Devuelve la posición donde aparece o -1 si no se encuentra.\n",
    "print (nombre.find('a')) #Devuelve la posición en la que aparece la primera 'a'.\n",
    "print (nombre.find('a', 3)) #Empieza a buscar en la posición 3 (encuentra la segunda 'a')\n",
    "print (nombre.find('a', 4)) #Empieza en la posición 4 (no encuentra nada)"
   ]
  },
  {
   "cell_type": "code",
   "execution_count": null,
   "metadata": {},
   "outputs": [],
   "source": [
    "#str.count(sub, start = 0,end = len(string))\n",
    "#count funciona parecido, excepto que devuelve el número de veces que aparece una subcadena:\n",
    "print (nombre.count('a'))\n",
    "print (nombre.count('a', 3))\n",
    "print (nombre.count('a', 4))"
   ]
  },
  {
   "cell_type": "code",
   "execution_count": null,
   "metadata": {},
   "outputs": [],
   "source": [
    "#str.upper() convierte a mayúsculas\n",
    "nombre_mayus = nombre.upper()\n",
    "print (nombre_mayus)\n",
    "\n",
    "#str.lower() convierte a minúsculas\n",
    "print (nombre_mayus.lower())"
   ]
  },
  {
   "cell_type": "markdown",
   "metadata": {},
   "source": [
    "## 2. Flujo\n",
    "Los programas que toman decisiones usan sentencias de **control de flujo**. En Python estas se definen en la [sección 4 del manual](https://docs.python.org/3/tutorial/controlflow.html).\n",
    "### 2.1. Sentencia if\n",
    "La sentencia de control de flujo por excelencia. Permite evaluar una condición, normalmente en una variable, y ejecutar distintas partes del código dependiendo del resultado.\n",
    "Puede haber cero o más partes **elif**, y la parte **else** es opcional. La palabra reservada \"elif\" es una abreviatura de \"else if\", que permite evitar una identación excesiva."
   ]
  },
  {
   "cell_type": "code",
   "execution_count": null,
   "metadata": {},
   "outputs": [],
   "source": [
    "x = int(input(\"Dame un número: \"))\n",
    "if x < 0:\n",
    "    x = 0\n",
    "    print ('Negativo')\n",
    "elif x == 0:\n",
    "    print ('Cero')\n",
    "elif x == 1:\n",
    "    print ('Uno')\n",
    "else:\n",
    "    print ('Positivo')"
   ]
  },
  {
   "cell_type": "markdown",
   "metadata": {},
   "source": [
    "### 2.2. Sentencia for\n",
    "La sentencia for permite iterar sobre los elementos de una secuencia (una cadena o una lista) en el orden en el que aparecen en la misma."
   ]
  },
  {
   "cell_type": "code",
   "execution_count": null,
   "metadata": {},
   "outputs": [],
   "source": [
    "#Podemos recorrer elementos en una lista (definida mediante corchetes) así:\n",
    "palabras = ['hey', 'presta', 'atencion']\n",
    "for p in palabras:\n",
    "    print(p, len(p))\n",
    "#La expresion len is una función built-in (incorporada) del lenguaje. Devuelve la longitud de una cadena."
   ]
  },
  {
   "cell_type": "code",
   "execution_count": null,
   "metadata": {},
   "outputs": [],
   "source": [
    "#De manera análoga se pueden recorrer los caracteres de una cadena\n",
    "for caracter in 'Hello':\n",
    "    print(caracter)"
   ]
  },
  {
   "cell_type": "markdown",
   "metadata": {},
   "source": [
    "### 2.3. La función range\n",
    "La función [range](https://docs.python.org/3/library/stdtypes.html#range) sirve para generar progresiones aritméticas. Es muy útil a la hora de iterar sobre cadenas o listas de elementos."
   ]
  },
  {
   "cell_type": "code",
   "execution_count": null,
   "metadata": {},
   "outputs": [],
   "source": [
    "#5 Elementos: 0 a 4\n",
    "for i in range(5):\n",
    "    print(i)\n",
    "# Elementos 5 a 9\n",
    "print('#####')\n",
    "\n",
    "for i in range(8,16):\n",
    "    print(i)\n",
    "print('#####')\n",
    "\n",
    "for i in range(5,40,5):\n",
    "    print(i)\n",
    "print('#####')\n",
    "\n",
    "for i in range (40,5,-5):\n",
    "    print(i)"
   ]
  },
  {
   "cell_type": "markdown",
   "metadata": {},
   "source": [
    "Si usamos range con el anterior ejemplo en el que iterabámos sobre los elementos de una cadena:"
   ]
  },
  {
   "cell_type": "code",
   "execution_count": null,
   "metadata": {},
   "outputs": [],
   "source": [
    "cadena = 'Hello'\n",
    "for indice in range(len(cadena)):\n",
    "    print(\"Indice: %d, Caracter: %c\" % (indice, cadena[indice]))"
   ]
  },
  {
   "cell_type": "markdown",
   "metadata": {},
   "source": [
    "### 2.4. Sentencia while\n",
    "La sentencia while (mientras) puede ser usada de la siguiente manera:"
   ]
  },
  {
   "cell_type": "code",
   "execution_count": null,
   "metadata": {},
   "outputs": [],
   "source": [
    "#Dos tablas de multiplicar:\n",
    "a = 2\n",
    "while a < 4:\n",
    "    b = 0\n",
    "    while b < 10:\n",
    "        print (\"%d por %d es %d\" % (a, b, a * b))\n",
    "        b += 1 #Incrementar b en 1\n",
    "    print('#####')\n",
    "    a += 1"
   ]
  },
  {
   "cell_type": "markdown",
   "metadata": {},
   "source": [
    "### 2.5 break y continue\n",
    "Cuando estamos dentro de un bucle, **break** sirve para terminar la ejecución del bucle antes de tiempo. Por ejemplo, querríamos querer evaluar alguna condición especial para terminar nuestro código:"
   ]
  },
  {
   "cell_type": "code",
   "execution_count": null,
   "metadata": {},
   "outputs": [],
   "source": [
    "a = 2\n",
    "while a < 4:\n",
    "    b = 0\n",
    "    while b < 10:\n",
    "        if a * b == 12: #Si el resultado es 12, salgo del bucle más anidado\n",
    "            break;\n",
    "        print (\"%d por %d es %d\" % (a, b, a * b))  \n",
    "        b += 1 #Incrementar b en 1\n",
    "    print('#####')\n",
    "    a += 1"
   ]
  },
  {
   "cell_type": "markdown",
   "metadata": {},
   "source": [
    "Dentro de un bucle, continue hace que se **continue** con la siguiente pasada del bucle, ignorando el código que quedase por ejecutar. Por ejemplo:"
   ]
  },
  {
   "cell_type": "code",
   "execution_count": null,
   "metadata": {},
   "outputs": [],
   "source": [
    "a = 2\n",
    "while a < 4:\n",
    "    b = 0\n",
    "    while b < 10:\n",
    "        if a * b == 12:\n",
    "            print(\"El resultado es 12\");\n",
    "            b += 2 ##Saltamos una iteración y continuamos normalmente\n",
    "            continue\n",
    "        print (\"%d por %d es %d\" % (a, b, a * b))  \n",
    "        b += 1 #Incrementar b en 1\n",
    "    print('#####')\n",
    "    a += 1"
   ]
  },
  {
   "cell_type": "markdown",
   "metadata": {},
   "source": [
    "## Ejercicio"
   ]
  },
  {
   "cell_type": "markdown",
   "metadata": {},
   "source": [
    "Declara dos variables (var_1 y var_2) que recojan la entrada de teclado del usuario. \n",
    "En las cadenas resultantes realiza las siguientes operaciones:\n",
    "1. Reemplaza todas las apariciones de \"a\" por \"e\" e imprime el resultado.\n",
    "2. Cuenta el número de caracteres de cada cadena e imprime el resultado.\n",
    "3. Convierta la cadena a mayúsculas e imprime el resultado.\n",
    "\n",
    "\n"
   ]
  },
  {
   "cell_type": "code",
   "execution_count": null,
   "metadata": {},
   "outputs": [],
   "source": []
  }
 ],
 "metadata": {
  "kernelspec": {
   "display_name": "Python 3",
   "language": "python",
   "name": "python3"
  },
  "language_info": {
   "codemirror_mode": {
    "name": "ipython",
    "version": 3
   },
   "file_extension": ".py",
   "mimetype": "text/x-python",
   "name": "python",
   "nbconvert_exporter": "python",
   "pygments_lexer": "ipython3",
   "version": "3.5.3"
  }
 },
 "nbformat": 4,
 "nbformat_minor": 2
}
