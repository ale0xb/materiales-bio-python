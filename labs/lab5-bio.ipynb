{
 "cells": [
  {
   "cell_type": "markdown",
   "metadata": {},
   "source": [
    "# Lab 5-2: Conjuntos\n",
    "La teoría de conjuntos es una rama de la lógica matemática que estudia las colecciones de objetos y es parte integral de las matemáticas modernas. \n",
    "En lo que nos atañe, los miembros de los conjuntos pueden ser cualquier cosa, por ejemplo: números, caracteres, palabras, nombres, letras, listas e incluso otros conjuntos. \n",
    "\n",
    "![imagen de conjuntos](img/conjuntos.png)\n",
    "\n",
    "Los representantes de los conjuntos en Python son las colecciones **set** (conjunto) y **frozenset** (conjunto congelado). Los conjuntos son colecciones **desordenadas** de elementos **únicos** (no puede haber dos elementos iguales), así que a diferencia de las listas, no podrán contener múltiples ocurrencias del mismo elemento (por ejemplo la misma cadena).\n",
    "\n",
    "## 6.1. Conjuntos\n",
    "Para crear un conjunto en Python, vamos a usar la función built-in **set()** o las llaves {}, a la que le pasaremos como argumento una secuencia:"
   ]
  },
  {
   "cell_type": "code",
   "execution_count": null,
   "metadata": {},
   "outputs": [],
   "source": [
    "#Para crear un conjunto podemos usar una cadena:\n",
    "x = set(\"Esto son los elementos\")\n",
    "print(x) #Los conjuntos no tienen orden!\n",
    "\n",
    "#O bien una lista\n",
    "y = set([\"Azul\", \"Negro\", \"Blanco\"])\n",
    "print(y)\n"
   ]
  },
  {
   "cell_type": "markdown",
   "metadata": {},
   "source": [
    "Fíjate lo que ha pasado en el conjunto x: Los elementos se han desordenado y por ejemplo la letra \"o\" sólo aparece una vez, aunque en la frase original había más de una. Esto es porque la comparación 'o' == 'o' devuelve True, o lo que es lo mismo, los objetos son iguales.\n",
    "Siguiendo la misma lógica, ¿qué pasaría con las tuplas?"
   ]
  },
  {
   "cell_type": "code",
   "execution_count": null,
   "metadata": {},
   "outputs": [],
   "source": [
    "ciudades = set((\"Salamanca\", \"Bilbao\", \"Barcelona\", \"Cáceres\", \"Zamora\", \"Gijón\", \"Salamanca\")) #usando set()\n",
    "print(ciudades) # la segunda aparición de Salamanca también es rechazada.\n",
    "ciudades_bis = {\"Salamanca\", \"Bilbao\", \"Coruña\"} # usando llaves\n",
    "print(ciudades_bis)"
   ]
  },
  {
   "cell_type": "markdown",
   "metadata": {},
   "source": [
    "## 6.2. Los conjuntos sólo admiten objetos inmutables\n",
    "Los conjuntos por defecto no permiten incluir objectos mutables como elementos debido al hecho de que serían muy costosos de mantener en memoria. Si algo puede mutar en cualquier momento, todo el conjunto debería ser reevaluado para comprobar que es consistente. En el caso de listas, y por las razones que vimos en sesiones anteriores, esto sería especialmente complicado.\n",
    "\n",
    "Esta es la razón por la que no se pueden incluir listas como elementos:"
   ]
  },
  {
   "cell_type": "code",
   "execution_count": null,
   "metadata": {},
   "outputs": [],
   "source": [
    "ciudades_2 = set(((\"Salamanca\", \"Bilbao\"), (\"Barcelona\", \"Madrid\", \"Zamora\")))\n",
    "print(ciudades_2)\n",
    "ciudades_3 = set(([\"Salamanca\", \"Bilbao\"], [\"Barcelona\", \"Madrid\", \"Zamora\"])) #OPPPS!"
   ]
  },
  {
   "cell_type": "markdown",
   "metadata": {},
   "source": [
    "## 6.3 Operaciones\n",
    "Como es de esperar, los conjuntos, como el resto de colecciones que hemos visto a lo largo del curso, también soportan operaciones que detallamos a continuación:"
   ]
  },
  {
   "cell_type": "markdown",
   "metadata": {},
   "source": [
    "## Añadir, quitar, modificar"
   ]
  },
  {
   "cell_type": "code",
   "execution_count": null,
   "metadata": {},
   "outputs": [],
   "source": [
    "### 6.3.1 add(elemento)\n",
    "## Un método que añade un elemento, que tiene que ser inmutable, a un conjunto.\n",
    "colores = {\"rojo\", \"amarillo\", \"azul\"}\n",
    "print(\"colores vale: \", colores)\n",
    "print(\"añado 'verde'\")\n",
    "colores.add(\"verde\")\n",
    "print(\"colores vale: \", colores)\n",
    "print(\"añado 'rojo'\")\n",
    "colores.add(\"rojo\")\n",
    "print(\"colores vale: \", colores)"
   ]
  },
  {
   "cell_type": "code",
   "execution_count": null,
   "metadata": {},
   "outputs": [],
   "source": [
    "### 6.3.2 clear()\n",
    "## Elimina todos los elementos del conjunto\n",
    "ciudades_5 = {\"Salamanca\", \"Zamora\", \"León\", \"Palencia\"}\n",
    "ciudades_5.clear()\n",
    "print(ciudades_5)"
   ]
  },
  {
   "cell_type": "code",
   "execution_count": null,
   "metadata": {},
   "outputs": [],
   "source": [
    "### 6.3.3 copy()\n",
    "## Crea una copia superficial del conjunto.\n",
    "ciudades_6 = {\"Valladolid\", \"Teruel\", \"Albacete\"}\n",
    "ciudades_6_copia = ciudades_6.copy()\n",
    "ciudades_6_copia_bis = ciudades_6\n",
    "ciudades_6.clear()\n",
    "\n",
    "##Qué pasa aqui??\n",
    "print(ciudades_6_copia)\n",
    "print(ciudades_6_copia_bis)"
   ]
  },
  {
   "cell_type": "code",
   "execution_count": null,
   "metadata": {},
   "outputs": [],
   "source": [
    "### 6.3.4 difference()\n",
    "## Devuelve la diferencia entre dos o mas conjuntos en un nuevo conjunto\n",
    "x = {\"a\", \"b\", \"c\", \"d\", \"e\"}\n",
    "print(\"x vale: \", x)\n",
    "y = {\"b\", \"c\"}\n",
    "print(\"y vale: \", y)\n",
    "z = {\"c\", \"d\"}\n",
    "print(\"z vale: \", z)\n",
    "print()\n",
    "print('x - y = ', x.difference(y))\n",
    "print('y - x = ', x.difference(y))\n",
    "\n",
    "## O simplemente usando el operador -\n",
    "print('x - y = ', x - z)"
   ]
  },
  {
   "cell_type": "code",
   "execution_count": null,
   "metadata": {},
   "outputs": [],
   "source": [
    "### 6.3.5 difference_update()\n",
    "## Igual que difference(), salvo que al conjunto que \n",
    "## ejecuta este método se le sustraen los elementos de un segundo conjunto, quedando así modificado\n",
    "## Se puede interpretar como x = x - y (x-=y)\n",
    "x = {\"a\", \"b\", \"c\", \"d\", \"e\"}\n",
    "print(\"x vale: \", x)\n",
    "y = {\"b\", \"c\"}\n",
    "print(\"y vale: \", y)\n",
    "\n",
    "x.difference_update(y) #operación in-place\n",
    "print(\"x.difference_update(y) = \", x)\n"
   ]
  },
  {
   "cell_type": "code",
   "execution_count": null,
   "metadata": {},
   "outputs": [],
   "source": [
    "### 6.3.6 remove() y discard()\n",
    "## Para eliminar objetos de un conjunto usaremos estas dos funciones.\n",
    "## La diferencia entre ambos es que remove() lanza una excepción si el elemento dado no existe en el conjunto!\n",
    "x = {\"a\",\"b\",\"c\",\"d\",\"e\"}\n",
    "print(\"x vale: \", x)\n",
    "print('Hago x.remove(\"a\")')\n",
    "x.remove(\"a\")\n",
    "print(\"x vale: \", x)\n",
    "\n",
    "a = x.pop()\n",
    "print(\"x.pop() = \", a)\n",
    "print(\"x vale: \", x)"
   ]
  },
  {
   "cell_type": "code",
   "execution_count": null,
   "metadata": {},
   "outputs": [],
   "source": [
    "print('x.remove(\"c\")')\n",
    "x.remove(\"c\") # más rápido pero no comprueba existencia (lanza excepción)\n",
    "print(\"x vale: \", x) "
   ]
  },
  {
   "cell_type": "code",
   "execution_count": null,
   "metadata": {},
   "outputs": [],
   "source": [
    "print('x.remove(\"c\")')\n",
    "x.discard(\"c\") # menos rápido pero más seguro\n",
    "print(\"x vale: \", x) "
   ]
  },
  {
   "cell_type": "markdown",
   "metadata": {},
   "source": [
    "## Operaciones con conjuntos"
   ]
  },
  {
   "cell_type": "code",
   "execution_count": null,
   "metadata": {},
   "outputs": [],
   "source": [
    "### 6.4.5 union() e intersection()\n",
    "## Devuelven la unión y la intersección de dos conjuntos.\n",
    "x = {\"a\",\"b\",\"c\",\"d\",\"e\"}\n",
    "print(\"x vale: \", x) \n",
    "y = {\"c\",\"d\",\"e\",\"f\",\"g\"}\n",
    "print(\"y vale: \", y)\n",
    "print(\"x | y = \", x | y) # o x.union(y)\n",
    "print(\"x & y = \", x & y) # o x.intersection(y)"
   ]
  },
  {
   "cell_type": "code",
   "execution_count": null,
   "metadata": {},
   "outputs": [],
   "source": [
    "### 6.4.5 isdisjoint(), issubset(), issuperset()\n",
    "## Devuelven True o False dependiendo de si el conjunto que el conjunto sobre el que se invoca el método es\n",
    "## disjunto con el conjunto que se pasa como parámetro o es subconjunto o superconjunto del mismo, respectivamente.\n",
    "x = {\"a\",\"b\",\"c\",\"d\",\"e\"}\n",
    "print(\"x vale: \", x) \n",
    "y = {\"f\", \"g\"}\n",
    "print(\"y vale: \", y) \n",
    "z = {\"a\", \"b\"}\n",
    "print(\"z vale: \", z) \n",
    "\n",
    "print('x e y son disjuntos? ' + str(x.isdisjoint(y)))\n",
    "print('z es un subconjunto de x? ' + str(z.issubset(x)))\n",
    "print('x es un subconjunto de si mismo? ' + str(x.issubset(x)))\n",
    "print('x es un superconjunto de si mismo? ' + str(x.issubset(x)))\n",
    "\n",
    "##Los subconjuntos/superconjuntos propios son aquellos subconjuntos/superconjuntos de un conjunto dado que no son dicho conjunto.\n",
    "##Para expresar esto en python usaremos los símbolos mayor (>) y menor (<) estrictos.\n",
    "##Mayor o igual (>=) o menor o igual (<=) son equivalentes a issuperset y issubset respectivamente.\n",
    "\n",
    "print('x es un subconjunto propio de si mismo? ' + str((x < x)))\n",
    "print('y es un superconjunto propio de si mismo? ' + str(x > x))\n",
    "\n"
   ]
  },
  {
   "cell_type": "markdown",
   "metadata": {},
   "source": [
    "# Ejercicio\n",
    "Empleando el fichero covid-samples.fasta, calcula, empleando conjuntos, los alfabetos usado en cada una de las secuencias. Después, calcula la intersección entre todas las combinaciones de los alfabetos obtenidos. \n",
    "¿Qué secuencias tienen más simbolos en común?"
   ]
  },
  {
   "cell_type": "code",
   "execution_count": null,
   "metadata": {},
   "outputs": [],
   "source": []
  }
 ],
 "metadata": {
  "kernelspec": {
   "display_name": "Python 3",
   "language": "python",
   "name": "python3"
  },
  "language_info": {
   "codemirror_mode": {
    "name": "ipython",
    "version": 3
   },
   "file_extension": ".py",
   "mimetype": "text/x-python",
   "name": "python",
   "nbconvert_exporter": "python",
   "pygments_lexer": "ipython3",
   "version": "3.7.4"
  }
 },
 "nbformat": 4,
 "nbformat_minor": 2
}
