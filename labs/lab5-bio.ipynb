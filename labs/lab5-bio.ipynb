{
 "cells": [
  {
   "cell_type": "markdown",
   "metadata": {},
   "source": [
    "# Lab 5: Conjuntos y Módulos\n",
    "\n",
    "## 5.1. Conjuntos\n",
    "La teoría de conjuntos es una rama de la lógica matemática que estudia las colecciones de objetos y es parte integral de las matemáticas modernas. \n",
    "En lo que nos atañe, los miembros de los conjuntos pueden ser cualquier cosa, por ejemplo: números, caracteres, palabras, nombres, letras, listas e incluso otros conjuntos. \n",
    "\n",
    "![imagen de conjuntos](img/conjuntos.png)\n",
    "\n",
    "Los representantes de los conjuntos en Python son las colecciones **set** (conjunto) y **frozenset** (conjunto congelado). Los conjuntos son colecciones **desordenadas** de elementos **únicos** (no puede haber dos elementos iguales), así que a diferencia de las listas, no podrán contener múltiples ocurrencias del mismo elemento (por ejemplo la misma cadena).\n",
    "\n",
    "Para crear un conjunto en Python, vamos a usar la función built-in **set()** o las llaves {}, a la que le pasaremos como argumento una secuencia:"
   ]
  },
  {
   "cell_type": "code",
   "execution_count": null,
   "metadata": {},
   "outputs": [],
   "source": [
    "#Para crear un conjunto podemos usar una cadena:\n",
    "x = set(\"Esto son los elementos\")\n",
    "print(x) #Los conjuntos no tienen orden!\n",
    "\n",
    "#O bien una lista\n",
    "y = set([\"Azul\", \"Negro\", \"Blanco\"])\n",
    "print(y)\n"
   ]
  },
  {
   "cell_type": "markdown",
   "metadata": {},
   "source": [
    "Fíjate lo que ha pasado en el conjunto x: Los elementos se han desordenado y por ejemplo la letra \"o\" sólo aparece una vez, aunque en la frase original había más de una. Esto es porque la comparación 'o' == 'o' devuelve True, o lo que es lo mismo, los objetos son iguales.\n",
    "Siguiendo la misma lógica, ¿qué pasaría con las tuplas?"
   ]
  },
  {
   "cell_type": "code",
   "execution_count": null,
   "metadata": {},
   "outputs": [],
   "source": [
    "ciudades = set((\"Salamanca\", \"Bilbao\", \"Barcelona\", \"Cáceres\", \"Zamora\", \"Gijón\", \"Salamanca\")) #usando set()\n",
    "print(ciudades) # la segunda aparición de Salamanca también es rechazada.\n",
    "ciudades_bis = {\"Salamanca\", \"Bilbao\", \"Coruña\"} # usando llaves\n",
    "print(ciudades_bis)"
   ]
  },
  {
   "cell_type": "markdown",
   "metadata": {},
   "source": [
    "### 5.1.1. Los conjuntos sólo admiten objetos inmutables\n",
    "Los conjuntos por defecto no permiten incluir objectos mutables como elementos debido al hecho de que serían muy costosos de mantener en memoria. Si algo puede mutar en cualquier momento, todo el conjunto debería ser reevaluado para comprobar que es consistente. En el caso de listas, y por las razones que vimos en sesiones anteriores, esto sería especialmente complicado.\n",
    "\n",
    "Esta es la razón por la que no se pueden incluir listas como elementos:"
   ]
  },
  {
   "cell_type": "code",
   "execution_count": null,
   "metadata": {},
   "outputs": [],
   "source": [
    "ciudades_2 = set(((\"Salamanca\", \"Bilbao\"), (\"Barcelona\", \"Madrid\", \"Zamora\")))\n",
    "print(ciudades_2)\n",
    "ciudades_3 = set(([\"Salamanca\", \"Bilbao\"], [\"Barcelona\", \"Madrid\", \"Zamora\"])) #OPPPS!"
   ]
  },
  {
   "cell_type": "markdown",
   "metadata": {},
   "source": [
    "### 5.1.2. Operaciones\n",
    "Como es de esperar, los conjuntos, como el resto de colecciones que hemos visto a lo largo del curso, también soportan operaciones que detallamos a continuación:"
   ]
  },
  {
   "cell_type": "markdown",
   "metadata": {},
   "source": [
    "### Añadir, quitar, modificar"
   ]
  },
  {
   "cell_type": "code",
   "execution_count": null,
   "metadata": {},
   "outputs": [],
   "source": [
    "### add(elemento)\n",
    "## Un método que añade un elemento, que tiene que ser inmutable, a un conjunto.\n",
    "colores = {\"rojo\", \"amarillo\", \"azul\"}\n",
    "print(\"colores vale: \", colores)\n",
    "print(\"añado 'verde'\")\n",
    "colores.add(\"verde\")\n",
    "print(\"colores vale: \", colores)\n",
    "print(\"añado 'rojo'\")\n",
    "colores.add(\"rojo\")\n",
    "print(\"colores vale: \", colores)"
   ]
  },
  {
   "cell_type": "code",
   "execution_count": null,
   "metadata": {},
   "outputs": [],
   "source": [
    "### clear()\n",
    "## Elimina todos los elementos del conjunto\n",
    "ciudades_5 = {\"Salamanca\", \"Zamora\", \"León\", \"Palencia\"}\n",
    "ciudades_5.clear()\n",
    "print(ciudades_5)"
   ]
  },
  {
   "cell_type": "code",
   "execution_count": null,
   "metadata": {},
   "outputs": [],
   "source": [
    "### copy()\n",
    "## Crea una copia superficial del conjunto.\n",
    "ciudades_6 = {\"Valladolid\", \"Teruel\", \"Albacete\"}\n",
    "ciudades_6_copia = ciudades_6.copy()\n",
    "ciudades_6_copia_bis = ciudades_6\n",
    "ciudades_6.clear()\n",
    "\n",
    "##Qué pasa aqui??\n",
    "print(ciudades_6_copia)\n",
    "print(ciudades_6_copia_bis)"
   ]
  },
  {
   "cell_type": "code",
   "execution_count": null,
   "metadata": {},
   "outputs": [],
   "source": [
    "### difference()\n",
    "## Devuelve la diferencia entre dos o mas conjuntos en un nuevo conjunto\n",
    "x = {\"a\", \"b\", \"c\", \"d\", \"e\"}\n",
    "print(\"x vale: \", x)\n",
    "y = {\"b\", \"c\"}\n",
    "print(\"y vale: \", y)\n",
    "z = {\"c\", \"d\"}\n",
    "print(\"z vale: \", z)\n",
    "print()\n",
    "print('x - y = ', x.difference(y))\n",
    "print('y - x = ', x.difference(y))\n",
    "\n",
    "## O simplemente usando el operador -\n",
    "print('x - y = ', x - z)"
   ]
  },
  {
   "cell_type": "code",
   "execution_count": null,
   "metadata": {},
   "outputs": [],
   "source": [
    "### difference_update()\n",
    "## Igual que difference(), salvo que al conjunto que \n",
    "## ejecuta este método se le sustraen los elementos de un segundo conjunto, quedando así modificado\n",
    "## Se puede interpretar como x = x - y (x-=y)\n",
    "x = {\"a\", \"b\", \"c\", \"d\", \"e\"}\n",
    "print(\"x vale: \", x)\n",
    "y = {\"b\", \"c\"}\n",
    "print(\"y vale: \", y)\n",
    "\n",
    "x.difference_update(y) #operación in-place\n",
    "print(\"x.difference_update(y) = \", x)\n"
   ]
  },
  {
   "cell_type": "code",
   "execution_count": null,
   "metadata": {},
   "outputs": [],
   "source": [
    "### remove() y discard()\n",
    "## Para eliminar objetos de un conjunto usaremos estas dos funciones.\n",
    "## La diferencia entre ambos es que remove() lanza una excepción si el elemento dado no existe en el conjunto!\n",
    "x = {\"a\",\"b\",\"c\",\"d\",\"e\"}\n",
    "print(\"x vale: \", x)\n",
    "print('Hago x.remove(\"a\")')\n",
    "x.remove(\"a\")\n",
    "print(\"x vale: \", x)\n",
    "\n",
    "a = x.pop()\n",
    "print(\"x.pop() = \", a)\n",
    "print(\"x vale: \", x)"
   ]
  },
  {
   "cell_type": "code",
   "execution_count": null,
   "metadata": {},
   "outputs": [],
   "source": [
    "print('x.remove(\"c\")')\n",
    "x.remove(\"c\") # más rápido pero no comprueba existencia (lanza excepción)\n",
    "print(\"x vale: \", x) "
   ]
  },
  {
   "cell_type": "code",
   "execution_count": null,
   "metadata": {},
   "outputs": [],
   "source": [
    "print('x.remove(\"c\")')\n",
    "x.discard(\"c\") # menos rápido pero más seguro\n",
    "print(\"x vale: \", x) "
   ]
  },
  {
   "cell_type": "markdown",
   "metadata": {},
   "source": [
    "### Operaciones con conjuntos"
   ]
  },
  {
   "cell_type": "code",
   "execution_count": null,
   "metadata": {},
   "outputs": [],
   "source": [
    "### union() e intersection()\n",
    "## Devuelven la unión y la intersección de dos conjuntos.\n",
    "x = {\"a\",\"b\",\"c\",\"d\",\"e\"}\n",
    "print(\"x vale: \", x) \n",
    "y = {\"c\",\"d\",\"e\",\"f\",\"g\"}\n",
    "print(\"y vale: \", y)\n",
    "print(\"x | y = \", x | y) # o x.union(y)\n",
    "print(\"x & y = \", x & y) # o x.intersection(y)"
   ]
  },
  {
   "cell_type": "code",
   "execution_count": null,
   "metadata": {},
   "outputs": [],
   "source": [
    "### isdisjoint(), issubset(), issuperset()\n",
    "## Devuelven True o False dependiendo de si el conjunto que el conjunto sobre el que se invoca el método es\n",
    "## disjunto con el conjunto que se pasa como parámetro o es subconjunto o superconjunto del mismo, respectivamente.\n",
    "x = {\"a\",\"b\",\"c\",\"d\",\"e\"}\n",
    "print(\"x vale: \", x) \n",
    "y = {\"f\", \"g\"}\n",
    "print(\"y vale: \", y) \n",
    "z = {\"a\", \"b\"}\n",
    "print(\"z vale: \", z) \n",
    "\n",
    "print('x e y son disjuntos? ' + str(x.isdisjoint(y)))\n",
    "print('z es un subconjunto de x? ' + str(z.issubset(x)))\n",
    "print('x es un subconjunto de si mismo? ' + str(x.issubset(x)))\n",
    "print('x es un superconjunto de si mismo? ' + str(x.issubset(x)))\n",
    "\n",
    "##Los subconjuntos/superconjuntos propios son aquellos subconjuntos/superconjuntos de un conjunto dado que no son dicho conjunto.\n",
    "##Para expresar esto en python usaremos los símbolos mayor (>) y menor (<) estrictos.\n",
    "##Mayor o igual (>=) o menor o igual (<=) son equivalentes a issuperset y issubset respectivamente.\n",
    "\n",
    "print('x es un subconjunto propio de si mismo? ' + str((x < x)))\n",
    "print('y es un superconjunto propio de si mismo? ' + str(x > x))\n",
    "\n"
   ]
  },
  {
   "cell_type": "markdown",
   "metadata": {},
   "source": [
    "### Ejercicio 1\n",
    "Usando el fichero covid-samples.fasta, calcula, empleando conjuntos, los alfabetos usado en cada una de las secuencias. Después, calcula la intersección entre todas las combinaciones de los alfabetos obtenidos. \n",
    "¿Qué secuencias tienen más simbolos en común?"
   ]
  },
  {
   "cell_type": "markdown",
   "metadata": {},
   "source": [
    "## 5.2. Módulos (o bibliotecas)\n",
    "\n",
    "De igual manera que las funciones son bloques de código con una función específica, los módulos son conjuntos de funciones y constantes relacionadas temáticamente para desempeñar tareas concretas. En su expresión más básica, son ficheros de código fuente Python (con extensión `.py`) que pueden ser cargados al inicializar un programa. \n",
    "\n",
    "Existen dos tipos de módulos: los que forman parte de la distribución de Python y los que no. Los primeros vienen preinstalados y pueden ser usados directamente sin hacer nada más. Los segundos es necesario instalarlos con un gestor de paquetes como [conda](https://docs.conda.io/projects/conda/en/latest/user-guide/tasks/manage-pkgs.html) o [pip](https://docs.python.org/3/installing/index.html) y suelen haber sido creados por terceros. También podremos crear nuestros propios módulos.\n",
    "\n",
    "Para usar un módulo vamos a hacer uso de la palabra reservada `import <nombredelmodulo>`. Por defecto, Python va a buscar el fichero `<nombredelmodulo>.py` en el mismo directorio donde se esté ejecutando el notebook. Sin embargo, también incluirá rutas típicas en las que `conda` y `pip` suelen instalar paquetes."
   ]
  },
  {
   "cell_type": "markdown",
   "metadata": {},
   "source": [
    "### 5.2.1. Módulos estándar\n",
    "Como hemos apuntado, los módulos estándar de python son separados del núcleo del lenguaje por temas de rendimiento pero se incluyen en todas las distribuciones del lenguaje y pueden ser usados desde cualquier intérprete.\n",
    "\n",
    "Para ver la lista completa de módulos pincha [aquí](https://docs.python.org/3.5/py-modindex.html). \n",
    "\n",
    "Para ilustrar el uso de estos módulos, nos vamos a centrar en dos: [math](https://docs.python.org/3.5/library/math.html#module-math), que incluye funciones matemáticas de uso general e [itertools](https://docs.python.org/3.5/library/itertools.html#module-itertools), que aúna funciones para crear iteraciones eficientes."
   ]
  },
  {
   "cell_type": "code",
   "execution_count": null,
   "metadata": {},
   "outputs": [],
   "source": [
    "import math\n",
    "#Constante pi\n",
    "print('La constante PI: ' + str(math.pi))\n",
    "print('El factorial de 5: ' + str(math.factorial(5)))\n",
    "print('El máximo común divisor de 14 y 7: ' + str(math.gcd(14, 7)))\n",
    "print('Redondeo hacia abajo: ' + str(math.floor(11/4)))\n",
    "print('Redondeo hacia arriba: ' + str(math.ceil(11/4)))"
   ]
  },
  {
   "cell_type": "code",
   "execution_count": null,
   "metadata": {},
   "outputs": [],
   "source": [
    "# Forma de importar sólo las funciones que voy a usar. Me evita tener que usar <nombremodulo>.<nombrefuncion>\n",
    "def print_results(it):\n",
    "    for i in it:\n",
    "        print(i)\n",
    "from itertools import combinations, combinations_with_replacement, permutations, product "
   ]
  },
  {
   "cell_type": "code",
   "execution_count": null,
   "metadata": {},
   "outputs": [],
   "source": [
    "print_results(combinations('ACGT', 2)) #Combinaciones de 2 elementos sin repetición\n",
    "print()\n",
    "print_results(combinations('ACGT', 3)) #Combinaciones de 3 elementos sin repetición\n",
    "print()\n",
    "print_results(combinations('ACGT', 4)) #Combinaciones de 4 elementos sin repetición\n",
    "print()\n",
    "print_results(combinations('ACGT', 5)) #Combinaciones de 5 elementos sin repetición :) "
   ]
  },
  {
   "cell_type": "code",
   "execution_count": null,
   "metadata": {},
   "outputs": [],
   "source": [
    "print_results(combinations_with_replacement('ACGT', 2)) #Combinaciones de 2 elementos con repetición\n",
    "print()\n",
    "print_results(combinations_with_replacement('ACGT', 3)) #Combinaciones de 3 elementos con repetición\n",
    "print()\n",
    "print_results(combinations_with_replacement('ACGT', 4)) #Combinaciones de 4 elementos con repetición\n",
    "print()\n",
    "print_results(combinations_with_replacement('ACGT', 5)) #Combinaciones de 5 elementos con repetición"
   ]
  },
  {
   "cell_type": "code",
   "execution_count": null,
   "metadata": {},
   "outputs": [],
   "source": [
    "print_results(permutations('ACGT', 2)) #Permutaciones de 2 elementos\n",
    "print()\n",
    "print_results(permutations('ACGT', 3)) #Permutaciones de 3 elementos\n",
    "print()\n",
    "print_results(permutations('ACGT', 4)) #Permutaciones de 4 elementos\n",
    "print()\n",
    "print_results(permutations('ACGT', 5)) #Permutaciones de 5 elementos"
   ]
  },
  {
   "cell_type": "code",
   "execution_count": null,
   "metadata": {},
   "outputs": [],
   "source": [
    "print_results(list(product('ACGT', repeat=2))) #Producto cartesiano de 2x2\n",
    "print()\n",
    "print_results(list(product('ACGT', repeat=3))) #Producto cartesiano de 3x3\n",
    "print()\n",
    "print_results(list(product('ACGT', repeat=4))) #Producto cartesiano de 4x4\n",
    "print()\n",
    "print_results(list(product('ACGT', repeat=5))) #Producto cartesiano de 5x5"
   ]
  },
  {
   "cell_type": "markdown",
   "metadata": {},
   "source": [
    "### 5.2.2. Instalando módulos\n",
    "\n",
    "Para utilizar módulos no estándar, es necesario instalarlos primero usando un gestor de paquetes (en este caso pip). \n",
    "Existen muchísimas bibliotecas de terceros en python orientadas a infinidad de tareas distintas. \n",
    "Algunas interesantes son: \n",
    "1. [NumPy](https://numpy.org/) - Orientada a la computación numérica, sobre todo con arrays. Leer artículo en [Nature](https://www.nature.com/articles/s41586-020-2649-2).\n",
    "2. [SciPy](https://www.scipy.org/) - computación científica.\n",
    "3. [Pandas](https://pandas.pydata.org/) - análisis de datos.\n",
    "4. [Altair](https://altair-viz.github.io/) - visualización \n",
    "5. [BioPython](https://biopython.org/) - computación con datos biológicos\n",
    "\n",
    "Como ejemplo, vamos a instalar Altair para crear un diagrama de barras simple con los contenidos en C, G, T y A del genoma del vibrio cholerae:"
   ]
  },
  {
   "cell_type": "code",
   "execution_count": null,
   "metadata": {},
   "outputs": [],
   "source": [
    "# Aquí invocamos un comando en la consola de cpg3 (más sobre esto en la asignatura de UNIX)\n",
    "# para instalar la biblioteca de visualización Altair: https://altair-viz.github.io/\n",
    "# Reinicia el kernel después de ejecutar este comando!\n",
    "!pip3 install altair"
   ]
  },
  {
   "cell_type": "code",
   "execution_count": null,
   "metadata": {},
   "outputs": [],
   "source": [
    "import altair as alt\n",
    "\n",
    "data = alt.Data(values= [\n",
    "    {\"a\": 'A', 'b': 12}, \n",
    "    {\"a\": 'B', 'b': 15}, \n",
    "    {\"a\": 'C', 'b': 8}, \n",
    "    {\"a\": 'D', 'b': 22}])\n",
    "\n",
    "alt.Chart(data).mark_bar().encode(\n",
    "    x='a:N',\n",
    "    y='b:Q'\n",
    ")"
   ]
  },
  {
   "cell_type": "markdown",
   "metadata": {},
   "source": [
    "### 5.2.3. Declarando módulos\n",
    "Para declarar nuestros propios módulos, bastará con crear un fichero con extensiíon `py` y colocarlo en el mismo directorio desde el que queramos usarlo. \n",
    "\n",
    "Como ejemplo, he creado un fichero llamado \"misfunciones.py\" con 3 funciones y lo he colocado en este mismo directorio. Para usar las funciones incluidas en este fichero, bastará con usar la sentencia `import` como muestro aquí debajo:"
   ]
  },
  {
   "cell_type": "code",
   "execution_count": null,
   "metadata": {},
   "outputs": [],
   "source": [
    "import misfunciones\n",
    "misfunciones.inv_comp('aacctgaccta')"
   ]
  },
  {
   "cell_type": "markdown",
   "metadata": {},
   "source": [
    "### Ejercicio 2.1\n",
    "Completa el fichero misfunciones.py con todas las funciones que has creado a lo largo del curso y que creas que pueden serte útiles en el futuro. Trata de ejecutar el código desde este notebook. \n",
    "\n",
    "### Ejercicio 2.2\n",
    "Añade una función a dicho módulo llamada `pinta_frecuencias(secuencia, alfabeto)` que, usando la biblioteca Altair, dibuje un diagrama de barras con las frecuencias absolutas de los elementos del alfabeto que se pase en una secuencia. Prueba tu función al menos con el genoma del vibrio cholerae. "
   ]
  },
  {
   "cell_type": "code",
   "execution_count": null,
   "metadata": {},
   "outputs": [],
   "source": []
  }
 ],
 "metadata": {
  "kernelspec": {
   "display_name": "Python 3",
   "language": "python",
   "name": "python3"
  },
  "language_info": {
   "codemirror_mode": {
    "name": "ipython",
    "version": 3
   },
   "file_extension": ".py",
   "mimetype": "text/x-python",
   "name": "python",
   "nbconvert_exporter": "python",
   "pygments_lexer": "ipython3",
   "version": "3.7.4"
  }
 },
 "nbformat": 4,
 "nbformat_minor": 2
}
