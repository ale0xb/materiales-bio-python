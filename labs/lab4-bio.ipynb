{
 "cells": [
  {
   "cell_type": "markdown",
   "metadata": {},
   "source": [
    "# Lab 4: Copias superficiales y profundas. Diccionarios. \n",
    "\n",
    "## 1. Copias superficiales y profundas\n",
    "En los lab anteriores hemos visto cómo crear, acceder y modificar listas en memoria. Otra operación muy común a realizar es la de copia. Hasta ahora has visto como copiar tipos básicos así:"
   ]
  },
  {
   "cell_type": "code",
   "execution_count": null,
   "metadata": {},
   "outputs": [],
   "source": [
    "#Inicializo la variable valor_1 a 25\n",
    "valor_1 = 25\n",
    "#Ahora COPIO el valor de valor_1 a valor_2 pero como ya vimos en su día en realidad lo que ocurre es que la variable valor_2 pasa a apuntar en memoria a la misma zona que valor_1. Esto lo podemos comprobar mediante el uso de la función built-in id:\n",
    "valor_2 = valor_1\n",
    "print('valor_1 vale ' + str(valor_1) + ' y está guardado en ' + str(id(valor_1)))\n",
    "print('valor_2 vale ' + str(valor_2) + ' y está guardado en ' + str(id(valor_2)))\n",
    "#Si reasigno valor_2, ahora apuntará a una nueva zona de memoria:\n",
    "valor_2 = 4\n",
    "print('Ahora valor_2 vale ' + str(valor_2) + ' y está guardado en ' + str(id(valor_2)))"
   ]
  },
  {
   "cell_type": "markdown",
   "metadata": {},
   "source": [
    "Vemos que lo que ocurre es que el valor no se copia realmente, sino que las variables apuntan a uno u otro sitio dependiendo de su contenido. Mientras que este comportamiento, específico de Python, es muy conveniente en multitud de ocasiones, puede conducir a problemas cuando lo que copiamos son elementos mutables compuestos por otros elementos (como por ejemplo las listas).\n",
    "\n",
    "Resulta que Python sólo va a realizar copias \"reales\" cuando sea necesario, por ejemplo cuando el programador se lo indique explícitamente. Vamos a ver por qué ocurre esto. \n",
    "\n",
    "Este es el mismo ejemplo de copia usando listas:"
   ]
  },
  {
   "cell_type": "code",
   "execution_count": null,
   "metadata": {},
   "outputs": [],
   "source": [
    "colours1 = [\"red\", \"blue\"]\n",
    "print('colours1: ', colours1)\n",
    "print('Asigno colours1 a colours2')\n",
    "colours2 = colours1\n",
    "print('colours2: ', colours2)\n",
    "# La función id() nos devuelve la identidad (un número) de una variable en tiempo de ejecución.\n",
    "print('id de colours1: %d, id de colours2: %s' % (id(colours1),id(colours2)))\n",
    "print('Ahora modifico colours2 para que valga [\"rouge\", \"vert\"]')\n",
    "colours2 = [\"rouge\", \"vert\"]\n",
    "print('colours2: ', colours2)\n",
    "print('id de colours1: %d, id de colours2: %s' % (id(colours1),id(colours2)))\n"
   ]
  },
  {
   "cell_type": "markdown",
   "metadata": {},
   "source": [
    "![copia-1](img/deep_copy_detailed1.png)\n",
    "En el ejemplo una lista cualquiera es asignada a colours_1. Esta lista es una lista que llamaremos \"superficial\" o \"plana\" ya que no contiene otras listas anidadas. En el siguiente paso se asigna colours1 a colours2. Mediante el uso de la función **id** vemos que ambas variables apuntan a la misma zona de memoria, o en otras palabras, comparten el objeto lista formado por \"red\" y \"blue\".\n",
    "\n",
    "Si asignamos una nueva lista a colours2, los valores en colours1 permanecen inalterados, como era de esperar. Lo que ocurre es que una nueva posición de memoria pasa a ser ocupada por la lista formada por \"rouge\" y \"vert\", ya que hemos creado una lista completamente nueva, y la variable colours_2 ahora apunta a dicha posición. \n",
    "\n",
    "Ahora vamos a ver qué ocurre si cambiamos un sólo elemento de alguna de las listas:"
   ]
  },
  {
   "cell_type": "code",
   "execution_count": null,
   "metadata": {},
   "outputs": [],
   "source": [
    "colours1 = [\"red\", \"blue\"]\n",
    "print('colours1: ', colours1)\n",
    "print('Asigno colours1 a colours2')\n",
    "colours2 = colours1\n",
    "print('colours2: ', colours2)\n",
    "print('id de colours1: %d, id de colours2: %s' % (id(colours1),id(colours2)))\n",
    "print('colours2[1] = \"green\"')\n",
    "colours2[1] = \"green\"\n",
    "print('colours2: ', colours2)\n",
    "print('id de colours1: %d, id de colours2: %s' % (id(colours1),id(colours2)))\n",
    "\n",
    "print('colours1: ', colours1)\n",
    "print('colours2: ', colours2)"
   ]
  },
  {
   "cell_type": "markdown",
   "metadata": {},
   "source": [
    "![copia-2](img/deep_copy_detailed2.png)\n",
    "Ahora lo que pasa es que cuando se asigna un nuevo elemento a la posición 2 de colours2, ¡el valor en colours1 también cambia automáticamente! 😱😱😱 \n",
    "\n",
    "¿Sabes por qué?\n",
    "Lo que pasa es que no se está asignando un valor nuevo a ninguna de las variables, sino que simplemente se modifican posiciones de memorias a las que (resulta que) apuntaban las variables colours1 y colours2."
   ]
  },
  {
   "cell_type": "markdown",
   "metadata": {},
   "source": [
    "### 1.1 Copiando con el operador slice\n",
    "Es posible copiar elementos usando el ya conocido operador slice evitando algunos de los efectos indeseados que acabamos de ver:"
   ]
  },
  {
   "cell_type": "code",
   "execution_count": null,
   "metadata": {},
   "outputs": [],
   "source": [
    "lst1 = ['a','b','c','d']\n",
    "print(\"lst1 vale \", lst1)\n",
    "print(\"Copio lst1 en lst2 con el operador slice [:]\") # ¿qué hace esto?\n",
    "lst2 = lst1[:] #desde 0 hasta el final\n",
    "print(\"lst2 vale \", lst2)\n",
    "print('id de lst1: %d, id de lst2: %s' % (id(lst1), id(lst2)))\n",
    "print(\"lst2[1] = 'x'\")\n",
    "lst2[1] = 'x'\n",
    "print(\"lst1 vale \", lst1)\n",
    "print(\"lst2 vale \", lst2)\n",
    "print('id de lst1: %d, id de lst2: %s' % (id(lst1), id(lst2)))"
   ]
  },
  {
   "cell_type": "markdown",
   "metadata": {},
   "source": [
    "Pero si la lista inicial contiene sublistas, vamos a tener problemas, ya que el operador slice va a copiar la referencia a dichas sublistas:"
   ]
  },
  {
   "cell_type": "code",
   "execution_count": null,
   "metadata": {},
   "outputs": [],
   "source": [
    "lst1 = ['a','b',['ab','ba']]\n",
    "print(\"lst1 vale \", lst1)\n",
    "print(\"Copio lst1 en lst2 con el operador slice [:]\")\n",
    "lst2 = lst1[:]\n",
    "print(\"lst2 vale \", lst2)\n",
    "print('id de lst1: %d, id de lst2: %s' % (id(lst1), id(lst2)))\n",
    "print('id de lst1[2]: %d, id de lst2[2]: %s' % (id(lst1[2]),id(lst2[2]))) # Ojo! las dos listas apuntan al mismo objeto!"
   ]
  },
  {
   "cell_type": "markdown",
   "metadata": {},
   "source": [
    "La siguiente imagen representa lo que ocurre en el anterior ejemplo. Vemos que tanto lst1[2] como lst2[2] apuntan a la misma sublista formada por \"ab\" y \"ba\".\n",
    "![copia-3](img/deep_copy_detailed3.png)\n",
    "\n",
    "Ahora, si asignamos un nuevo valor al elemento 0 o 1 de una de las dos lista, no habrá ningún efecto no deseado:"
   ]
  },
  {
   "cell_type": "code",
   "execution_count": null,
   "metadata": {},
   "outputs": [],
   "source": [
    "print(\"Hago lst2[0] = 'c'\")\n",
    "lst2[0] = 'c'\n",
    "print(\"lst1 vale \", lst1)\n",
    "print(\"lst2 vale \", lst2)"
   ]
  },
  {
   "cell_type": "markdown",
   "metadata": {},
   "source": [
    "No problem: \n",
    "![copia-4](img/deep_copy_detailed4.png)\n",
    "\n",
    "Pero si ahora cambio un elemento de la sublista la liamos:"
   ]
  },
  {
   "cell_type": "code",
   "execution_count": null,
   "metadata": {},
   "outputs": [],
   "source": [
    "print(\"Hago lst2[2][1] = 'd'\")\n",
    "lst2[2][1] = 'd'\n",
    "print(\"lst1 vale \", lst1)\n",
    "print(\"lst2 vale \", lst2)"
   ]
  },
  {
   "cell_type": "markdown",
   "metadata": {},
   "source": [
    "A pesar de haber modificado la lista lst2, lst1 también recibe dichos cambios!!! 🤯🤯🤯 \n",
    "\n",
    "Mucho ojo con esto!!!\n",
    "\n",
    "![copia-5](img/deep_copy_detailed5.png)"
   ]
  },
  {
   "cell_type": "markdown",
   "metadata": {},
   "source": [
    "### Copiando usando la función deepcopy\n",
    "Una solución a este problema es usar la función deepcopy del module copy, que realiza una copia profunda (elementos anidados incluidos) de una lista:"
   ]
  },
  {
   "cell_type": "code",
   "execution_count": null,
   "metadata": {},
   "outputs": [],
   "source": [
    "# Importa dos funciones, copy y deepcopy, no incluida por defecto en Python desde el modulo copy. \n",
    "# Más sobre esto en próximas clases\n",
    "from copy import copy, deepcopy\n",
    "\n",
    "lst1 = ['a','b',['ab','ba']]\n",
    "print(\"lst1 vale \", lst1)\n",
    "print(\"Copio lst1 en lst2 con deepcopy\")\n",
    "lst2 = deepcopy(lst1)\n",
    "print(\"lst2 vale \", lst2)\n",
    "\n",
    "print('id de lst1: %d, id de lst2: %s' % (id(lst1), id(lst2)))\n",
    "print('id de lst1[0]: %d, id de lst2[0]: %s' % (id(lst1[0]),id(lst2[0])))\n",
    "print('id de lst1[2]: %d, id de lst2[2]: %s' % (id(lst1[2]),id(lst2[2])))\n",
    "\n"
   ]
  },
  {
   "cell_type": "markdown",
   "metadata": {},
   "source": [
    "Al usar la función **id** vemos que la sublista ha sido copiada, porque id(lst2[2]) es diferente de id(lst1[2]). Es interesante sin embargo que las cadenas no se copian (La copia no sólo es **profunda** sino además **inteligente**), lst1[0] y lst2[0] por un lado y lst1[1] y lst2[1] por otro referencian la misma cadena respectivamente. \n",
    "Esta es la situación después de copiar la lista:\n",
    "![copia-6](img/deep_copy_detailed7.png)\n",
    "\n",
    "Si ahora modificamos la lista anidada:"
   ]
  },
  {
   "cell_type": "code",
   "execution_count": null,
   "metadata": {},
   "outputs": [],
   "source": [
    "print(\"Hago lst2[2][1] = 'd'\")\n",
    "lst2[2][1] = \"d\"\n",
    "print(\"lst2 vale \", lst2)\n",
    "print(\"Hago lst2[0] = 'c'\")\n",
    "lst2[0] = \"c\"\n",
    "print(\"lst2 vale \", lst2)\n",
    "print(lst1)\n",
    "print(lst2)"
   ]
  },
  {
   "cell_type": "markdown",
   "metadata": {},
   "source": [
    "La situación pasa a ser la siguiente, y el resultado es el esperado **(o no!)**.\n",
    "![copia-7](img/deep_copy_detailed8.png)"
   ]
  },
  {
   "cell_type": "markdown",
   "metadata": {},
   "source": [
    "**Pregunta: ¿qué hace la función `copy`?** (Prueba en la celda de abajo)"
   ]
  },
  {
   "cell_type": "code",
   "execution_count": null,
   "metadata": {},
   "outputs": [],
   "source": []
  },
  {
   "cell_type": "markdown",
   "metadata": {},
   "source": [
    "## 2. Diccionarios\n",
    "\n",
    "Para finalizar con las abstracciones de datos en Python vamos a ver los **diccionarios**, también llamados a veces **listas asociativas**\n",
    "\n",
    "Conceptualmente, un diccionario es un conjunto desordenado de elementos (a diferencia de las listas, que están ordenadas). Los elementos del diccionario son parejas **clave-valor** y se separan entre ellos mediante comas. Además, los elementos pertenecientes a un mismo diccionario se delimitan mediante el uso de llaves {}. Tanto la clave como el valor han de ser tipos válidos en Python (int, string, etc.), con la salvedad de que en el caso de las claves han de ser tipos **inmutables**.\n",
    "\n",
    "**Ojo! Los diccionarios NO son secuencias y tienen su propio tipo! Por lo tanto no soportan las mismas operaciones.**\n",
    "\n",
    "### 2.1 Acceder y modificar valores\n",
    "Los elementos en los diccionarios, a diferencia de las listas, son accedidos mediante su clave y no su posición (ya que **no tienen orden**). \n",
    "\n",
    "Cada elemento especificado por una clave es único en el diccionario (Tan sólo hay un elemento asociado a cada clave). \n",
    "\n",
    "Vamos a verlo con unos ejemplos:"
   ]
  },
  {
   "cell_type": "code",
   "execution_count": null,
   "metadata": {},
   "outputs": [],
   "source": [
    "#Definiendo diccionarios (En este caso diccionarios vacíos. Podemos usar las llaves o la palabra reservada \"dict\")\n",
    "dic_vacio = {} \n",
    "dic_vacio_2 = dict()\n",
    "print(dic_vacio)\n",
    "print(dic_vacio_2)"
   ]
  },
  {
   "cell_type": "code",
   "execution_count": null,
   "metadata": {},
   "outputs": [],
   "source": [
    "#Inicializando diccionarios no vacíos\n",
    "cliente_1 = {\"nombre\" : \"Maria Gonzalez\", \"direccion\" : \"Rios Rosas 52\", \"saldo\" : 500}\n",
    "\n",
    "#También puedo inicializar un diccionario con una tupla (o lista) de tuplas clave-valor:\n",
    "cliente_2 = dict(((\"nombre\", \"Pedro Lopez\"), (\"direccion\", \"Portugalete 10\"), (\"saldo\", 200)))\n",
    "\n",
    "#O usando la función zip para crear las tuplas, si tengo las claves y valores en listas separadas:\n",
    "claves = [\"nombre\", \"direccion\", \"saldo\"]\n",
    "valores = [\"Juan Lanas\", \"Gran Vía 2\", 1000]\n",
    "\n",
    "cliente_3 = dict(zip(claves, valores)) \n",
    "\n",
    "print(cliente_1)\n",
    "print(cliente_2)\n",
    "print(cliente_3)"
   ]
  },
  {
   "cell_type": "code",
   "execution_count": null,
   "metadata": {},
   "outputs": [],
   "source": [
    "#Accediendo a los valores de un diccionario (corchetes)\n",
    "print(cliente_1['nombre'])\n",
    "print(cliente_2['saldo'])"
   ]
  },
  {
   "cell_type": "code",
   "execution_count": null,
   "metadata": {},
   "outputs": [],
   "source": [
    "#Ya que no hay orden no puedo hacer cosas como:\n",
    "cliente_1[1]"
   ]
  },
  {
   "cell_type": "code",
   "execution_count": null,
   "metadata": {},
   "outputs": [],
   "source": [
    "#También obtendremos error si intentamos acceder al valor de una clave inexistente:\n",
    "cliente_1['edad']"
   ]
  },
  {
   "cell_type": "code",
   "execution_count": null,
   "metadata": {},
   "outputs": [],
   "source": [
    "#Modificando y actualizando diccionarios previamente declarados\n",
    "#Vamos a usar la notación de corchetes:\n",
    "cliente_1['edad'] = 25\n",
    "cliente_2['edad'] = 34\n",
    "cliente_1['direccion'] = \"Gran Vía 25\"\n",
    "print(cliente_1)\n",
    "print(cliente_2)"
   ]
  },
  {
   "cell_type": "markdown",
   "metadata": {},
   "source": [
    "### 2.2 Eliminar pares\n",
    "Una operación común que haremos sobre los diccionarios es la de eliminar un par clave-valor. Para ello usaremos la palabra reservada **del** o las operación **pop()**, que ya vimos en las listas, aunque ahora se define de manera ligeramente diferente o **popitem()**."
   ]
  },
  {
   "cell_type": "code",
   "execution_count": null,
   "metadata": {},
   "outputs": [],
   "source": [
    "#Eliminamos la clave edad y su valor correspondiente\n",
    "del cliente_1['edad']\n",
    "print(cliente_1)"
   ]
  },
  {
   "cell_type": "markdown",
   "metadata": {},
   "source": [
    "#### pop()\n",
    "En el caso de **pop()** (recuerda lo visto en listas), queremos eliminar un elemento del diccionario pero salvándolo a una variable sobre la que podamos operar con él. Recordemos que en las listas la operación **pop()** extraía el último elemento de la lista en cuestión pero entonces ¿Tiene sentido usar pop en un diccionario, cuando sabemos que no tiene orden?\n",
    "\n",
    "La respuesta es que sí, ya que en este caso **pop()** no realiza exactamente lo mismo. Para un diccionario D y una clave k, *D.pop(k)* va a eliminar la clave k devolviendo el valor correspondiente:"
   ]
  },
  {
   "cell_type": "code",
   "execution_count": null,
   "metadata": {},
   "outputs": [],
   "source": [
    "v = cliente_2.pop('edad')\n",
    "print(v)\n",
    "print(cliente_2)"
   ]
  },
  {
   "cell_type": "code",
   "execution_count": null,
   "metadata": {},
   "outputs": [],
   "source": [
    "#La clave tendrá que existir u obtendremos un error:\n",
    "cliente_2.pop('edad')"
   ]
  },
  {
   "cell_type": "markdown",
   "metadata": {},
   "source": [
    "#### popitem()\n",
    "El caso de **popitem()** es ligeramente diferente: no acepta ningún parámetro y elimina un elemento devolviendo el par clave-valor en forma de **tupla**. Esto es muy conveniente cuando queremos procesar y descartar los elementos de un diccionario uno a uno:"
   ]
  },
  {
   "cell_type": "code",
   "execution_count": null,
   "metadata": {},
   "outputs": [],
   "source": [
    "#El orden en el que se devuelven los elementos es arbitrario. \n",
    "#estado, capital es una tupla (Una nueva manera de usar las tuplas es usar una variable para guardar cada elemento de las mismas)\n",
    "capitales = {\"Valladolid\":\"Castilla y Leon\", \"Sevilla\":\"Andalucía\", \"Barcelona\": \"Cataluña\", \"Santiago de Compostela\":\"Galicia\", \"Vitoria-Gasteiz\":\"País Vasco\", \"Zaragoza\":\"Aragón\"}\n",
    "estado, capital = capitales.popitem()\n",
    "otra_tupla = capitales.popitem()\n",
    "print(estado, capital)\n",
    "print(otra_tupla[0], otra_tupla[1])"
   ]
  },
  {
   "cell_type": "markdown",
   "metadata": {},
   "source": [
    "### 2.3 Comprobar si existe una clave\n",
    "Hemos visto que si intentamos acceder a una clave inexistente en el diccionario obtendremos un error. Sin embargo hay una manera de evitar esto, comprobando si un diccionario contiene cierta clave usando los operadores **in** y **not in** que vimos en otros labs."
   ]
  },
  {
   "cell_type": "code",
   "execution_count": null,
   "metadata": {},
   "outputs": [],
   "source": [
    "if \"Valladolid\" in capitales:\n",
    "    print('La capital de ' + capitales[\"Valladolid\"] + ' es Valladolid')\n",
    "if \"Toledo\" not in capitales:\n",
    "          print(\"No se de qué comunidad autónoma es capital Toledo 😔\")"
   ]
  },
  {
   "cell_type": "markdown",
   "metadata": {},
   "source": [
    "Otra manera es usar **get()**, que no devuelve un error si no existe la clave, sino que devuelve None (palabra y tipo reservados)."
   ]
  },
  {
   "cell_type": "code",
   "execution_count": null,
   "metadata": {},
   "outputs": [],
   "source": [
    "print(capitales.get('Valladolid'))\n",
    "print(capitales.get('Toledo'))"
   ]
  },
  {
   "cell_type": "markdown",
   "metadata": {},
   "source": [
    "### 2.4 Copiando diccionarios\n",
    "Los diccionarios se pueden copiar usando el método **copy()**.\n",
    "¡Cuidado! Se realiza una copia superficial, por lo que las modificaciones a elementos aninados siguen afectando a las copias."
   ]
  },
  {
   "cell_type": "code",
   "execution_count": null,
   "metadata": {},
   "outputs": [],
   "source": [
    "cursos = { \"curso1\":{\"titulo\":\"Introducción a Python\", \n",
    "                         \"localidad\":\"Madrid\", \n",
    "                         \"instructor\":\"Dr. Acula\"},\n",
    "              \"curso2\":{\"titulo\":\"Python Avanzado\",\n",
    "                         \"localidad\":\"Salamanca\",\n",
    "                         \"instructor\":\"Abel Benito\"},\n",
    "              \"curso3\":{\"titulo\":\"Procesamiento de Textos\",\n",
    "                         \"localidad\":\"Zamora\",\n",
    "                         \"instructor\":\"Armando Guerra\"}\n",
    "              }\n",
    "\n",
    "cursos_copia = cursos.copy()\n",
    "cursos[\"curso2\"][\"titulo\"] = \"Javascript Avanzado\"\n",
    "print(cursos_copia)\n",
    "\n",
    "##Sin embargo si añadimos un nuevo elemento, funciona como esperamos\n",
    "cursos[\"curso2\"] = {\"titulo\":\"Seminario de Latex para Principiantes\",\n",
    "                         \"localidad\":\"Salamanca\",\n",
    "                         \"instructor\":\"Yola Prieto\"}\n",
    "\n",
    "print(cursos)\n",
    "print(cursos_copia)\n"
   ]
  },
  {
   "cell_type": "markdown",
   "metadata": {},
   "source": [
    "### 2.5 Limpiando\n",
    "Por último, el diccionario puede ser limpiado (no borrado!) con el método **clear()**"
   ]
  },
  {
   "cell_type": "code",
   "execution_count": null,
   "metadata": {},
   "outputs": [],
   "source": [
    "cursos.clear()\n",
    "print(cursos)"
   ]
  },
  {
   "cell_type": "markdown",
   "metadata": {},
   "source": [
    "### Más operaciones: concatenar e iterar:\n",
    "De manera análoga a como concatenábamos listas, podemos hacer lo mismo con diccionarios usando el método **update(dict)**. Este método une las claves y valores de un diccionario, sobreescribiendo los valores para claves repetidas."
   ]
  },
  {
   "cell_type": "code",
   "execution_count": null,
   "metadata": {},
   "outputs": [],
   "source": [
    "cursos.update({\"curso2\": {\"titulo\" : \"Seminario de Javascript para Principiantes\",\n",
    "                         \"localidad\":\"Valladolid\",\n",
    "                         \"instructor\":\"Dolores Fuertes\"}})\n",
    "\n",
    "print(cursos)"
   ]
  },
  {
   "cell_type": "markdown",
   "metadata": {},
   "source": [
    "Para iterar utilizaremos el ya conocido operador for ... in y las funciones keys() y values(), que devuelven listas con las claves y valores del diccionario, respectivamente."
   ]
  },
  {
   "cell_type": "code",
   "execution_count": null,
   "metadata": {},
   "outputs": [],
   "source": [
    "for curso in cursos:\n",
    "    print(curso)\n",
    "\n",
    "print('#########')\n",
    "\n",
    "for clave in cursos.keys():\n",
    "    print(clave)\n",
    "    \n",
    "print('#########')\n",
    "    \n",
    "for value in cursos.values():\n",
    "    print(value)\n",
    "\n",
    "print('#########')\n",
    "\n",
    "#Más lento\n",
    "for clave in cursos.keys():\n",
    "    print(cursos[clave])\n",
    "\n",
    "print('#########')\n",
    "#Tuplas clave-valor\n",
    "for clave, valor in cursos.items():\n",
    "    print(clave)\n",
    "    print(valor)\n"
   ]
  },
  {
   "cell_type": "markdown",
   "metadata": {},
   "source": [
    "# Extra: comprensión de listas \n",
    "\n",
    "Para final, vamos a ver una sintaxis en Python para crear listas y diccionarios (en general cualquier iterable) a partir de los elementos de otras colecciones. \n",
    "\n",
    "En la comprensión de listas, se utiliza la notación de corchetes con una expresión y un bucle `for`, a la que le pueden seguir más expresiones. La lista que obtendremos será el resultado de evaluar la expresión en el contexto de la cláusula `for` que incluyamos. Vamos a verlo. \n",
    "\n",
    "Imagina que tienes una lista con secuencias, tal que así:"
   ]
  },
  {
   "cell_type": "code",
   "execution_count": null,
   "metadata": {},
   "outputs": [],
   "source": [
    "seqs = ['cctaagaagcta',\n",
    "       'taatagatggtagaatgtaaaaggcacttttacacttttt',\n",
    "       'tgttatag',\n",
    "       'actcgtgtcctgtcaac',\n",
    "       'caatagtctgaacaactggtgtaagttccatctctaattga',\n",
    "       'tcaa']"
   ]
  },
  {
   "cell_type": "markdown",
   "metadata": {},
   "source": [
    "Como ya vimos anteriormente, podíamos ordenar esta lista usando funciones `lambda`: "
   ]
  },
  {
   "cell_type": "code",
   "execution_count": null,
   "metadata": {},
   "outputs": [],
   "source": [
    "for seq in sorted(seqs, key=lambda seq: len(seq)):\n",
    "    print(seq)"
   ]
  },
  {
   "cell_type": "markdown",
   "metadata": {},
   "source": [
    "Pero, ¿y si queremos almacenar la longitud de cada cadena para luego poder operar con ella? \n",
    "Para esto podemos usar comprensión de listas. \n",
    "Si te digo `seq_lens` que generes una lista con las longitudes de las secuencias en `seqs`, probablemente hagas esto:"
   ]
  },
  {
   "cell_type": "code",
   "execution_count": null,
   "metadata": {},
   "outputs": [],
   "source": [
    "seq_lens = []\n",
    "for seq in seqs:\n",
    "    seq_lens.append(len(seq))\n",
    "print(seq_lens)"
   ]
  },
  {
   "cell_type": "markdown",
   "metadata": {},
   "source": [
    "Con comprensión de listas es mucho más fácil y legible:"
   ]
  },
  {
   "cell_type": "code",
   "execution_count": null,
   "metadata": {},
   "outputs": [],
   "source": [
    "seq_lens = [len(seq) for seq in seqs]\n",
    "print(seq_lens) #Voilá"
   ]
  },
  {
   "cell_type": "markdown",
   "metadata": {},
   "source": [
    "Las listas, como es lógico, puede contener cualquier cosa, incluso diccionarios:"
   ]
  },
  {
   "cell_type": "code",
   "execution_count": null,
   "metadata": {},
   "outputs": [],
   "source": [
    "seq_infos = [{\"seq\": seq, \"index\": i, \"len\": len(seq)} for i,seq in enumerate(seqs)]\n",
    "\n",
    "for el in seq_infos:\n",
    "    print(el)"
   ]
  },
  {
   "cell_type": "markdown",
   "metadata": {},
   "source": [
    "También puedo generar diccionarios usando la sintaxis apropiada, aquí uso el índice de la secuencia en la lista original como clave del diccionario:"
   ]
  },
  {
   "cell_type": "code",
   "execution_count": null,
   "metadata": {},
   "outputs": [],
   "source": [
    "seq_infos_dict = {i : {\"seq\": seq, \"len\": len(seq)} for i,seq in enumerate(seqs)}"
   ]
  },
  {
   "cell_type": "code",
   "execution_count": null,
   "metadata": {},
   "outputs": [],
   "source": [
    "for k in seq_infos_dict.keys():\n",
    "    print(k, seq_infos_dict[k])"
   ]
  },
  {
   "cell_type": "markdown",
   "metadata": {},
   "source": [
    "Finalmente, las cláusulas se pueden anidar. Aquí calculo las frecuencias absolutas de nucleótidos en cada secuencia como una lista de diccionarios:"
   ]
  },
  {
   "cell_type": "code",
   "execution_count": null,
   "metadata": {},
   "outputs": [],
   "source": [
    "[dict({'seq_index': i, \"nucl\": nucl, \"freq\": seq.upper().count(nucl)}) for i, seq in enumerate(seqs) for nucl in ['A', 'C', 'T', 'G']]"
   ]
  },
  {
   "cell_type": "markdown",
   "metadata": {},
   "source": [
    "🤔Espera un momento, veo muchos `seq_index: X` repetidos! Alerta de redundancia!!! 🚨🚨\n",
    "\n",
    "¿Y si meto más niveles?"
   ]
  },
  {
   "cell_type": "code",
   "execution_count": null,
   "metadata": {},
   "outputs": [],
   "source": [
    "{i: {nucl: seq.upper().count(nucl) for nucl in ['A', 'C', 'T', 'G']} for i, seq in enumerate(seqs)}"
   ]
  },
  {
   "cell_type": "markdown",
   "metadata": {},
   "source": [
    "Más organizadito todo. ¡Qué bien! 😌"
   ]
  },
  {
   "cell_type": "markdown",
   "metadata": {},
   "source": [
    "# Ejercicio\n",
    "\n",
    "En la ruta `../data/covid-samples.fasta` he puesto un fichero unas muestras de secuencias del SARS-CoV-2. \n",
    "Usando este fichero:\n",
    "\n",
    "1. Reescribe aquí la función `inv_comp(secuencia)` que hiciste la semana pasada para que opere usando un diccionario.\n",
    "2. Crea otra función, `es_valida(secuencia_valida)`, que compruebe si la secuencia dada es válida. \n",
    "3. Crea otra función, `calcula_frecuencias(secuencia_valida_invertida)` que haga uso de las dos anteriores, y calcule la frecuencia absoluta y el porcentaje de cada nucleótido en la secuencia pasada como argumento. Almacena los cálculos en un diccionario, que será devuelto por la función al terminar.\n",
    "4. Crea otra función, `imprime_resultados(diccionario_frecuencias)`, que empleando el diccionario que se le pasa como argumento, imprima líneas con el formato:\n",
    "\n",
    "```\n",
    ">Título secuencia 1\n",
    "A - fa1A(fr1A%)\n",
    "C - fa1C(fr1C%)\n",
    "T - fa1T(fr1T%)\n",
    "G - fa1G(fr1G%)\n",
    ">Título secuencia 1\n",
    "A - fa2A(fr2A%)\n",
    "C - fa2C(fr2C%)\n",
    "T - fa2T(fr2T%)\n",
    "G - fa2G(fr2G%)\n",
    "...\n",
    "\n",
    "```\n",
    "donde \n",
    "\n",
    "faN{A,C,T,G}: frecuencia absoluta para el aminoácido {A,C,T,G} en la secuencia N\n",
    "    \n",
    "frN{A,C,T,G}: frecuencia absoluta para el aminoácido {A,C,T,G} en la secuencia N\n",
    "    \n",
    "**Ojo, las secuencias de este fichero fasta están partidas por saltos de carro 🙂**\n",
    "    "
   ]
  },
  {
   "cell_type": "code",
   "execution_count": null,
   "metadata": {},
   "outputs": [],
   "source": [
    "covid_secs = open('../data/covid-samples.fasta').readlines()"
   ]
  },
  {
   "cell_type": "code",
   "execution_count": null,
   "metadata": {},
   "outputs": [],
   "source": []
  }
 ],
 "metadata": {
  "kernelspec": {
   "display_name": "Python 3",
   "language": "python",
   "name": "python3"
  },
  "language_info": {
   "codemirror_mode": {
    "name": "ipython",
    "version": 3
   },
   "file_extension": ".py",
   "mimetype": "text/x-python",
   "name": "python",
   "nbconvert_exporter": "python",
   "pygments_lexer": "ipython3",
   "version": "3.7.4"
  }
 },
 "nbformat": 4,
 "nbformat_minor": 2
}
