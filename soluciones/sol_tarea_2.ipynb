{
 "cells": [
  {
   "cell_type": "markdown",
   "metadata": {
    "nbgrader": {
     "grade": false,
     "grade_id": "cell-07d960a571b75563",
     "locked": true,
     "schema_version": 3,
     "solution": false,
     "task": false
    }
   },
   "source": [
    "# Problema 1 (5 puntos)\n",
    "\n",
    "Define una función `informe_nucleotidos(archivo_fasta, porciones, alfabeto)` que calcule el porcentaje de nucleótidos en cada porción de cada secuencia almacenada en un archivo fasta dado. \n",
    "\n",
    "Por ejemplo, si se le pasa `porciones=4` y `alfabeto=[\"A\", \"C\", \"G\", \"T\"]`, la función encontrará, para cada secuencia, el porcentaje de nucleótidos en el primer, segundo, tercer y cuarto cuarto de cada secuencia. \n",
    "Análogamente, si se pasase `porciones=5`, obtendría los porcentajes para el primer, segundo, tercer, cuarto, y quinto quintos, etc. \n",
    "\n",
    "Al terminar el cálculo, la función:\n",
    "1. __Escribirá__ a un segundo fichero un informe de nombre `informe_<archivo_fasta>.txt` con el siguiente formato (ejemplo para `porciones=4`):\n",
    "\n",
    "```\n",
    "secuencia_1 \n",
    "A: [Ap11, Ap12, Ap13, Ap14]\n",
    "C: [Cp11, Cp12, Cp13, Cp14]\n",
    "T: [Tp11, Tp12, Tp13, Tp14]\n",
    "G: [Gp11, Gp21, Gp31, Gp41]\n",
    "\n",
    "secuencia_2\n",
    "A: [Ap21, Ap22, Ap23, Ap4]\n",
    "C: [Cp21, Cp22, Cp23, Cp4]\n",
    "T: [Tp21, Tp22, Tp23, Tp4]\n",
    "G: [Gp21, Gp22, Gp23, Gp4]\n",
    "\n",
    "...\n",
    "\n",
    "secuencia_n\n",
    "A: [Apn1, Apn2, Apn3, Apn4]\n",
    "C: [Cpn1, Cpn2, Cpn3, Cpn4]\n",
    "T: [Tpn1, Tpn2, Tpn3, Tpn4]\n",
    "G: [Gpn1, Gpn2, Gpn3, Gpn4]\n",
    "```\n",
    "\n",
    "Donde los valores {A,C,T,G}pmn son los porcentajes de cada nucleótido encontrados en cada porción para cada una de las secuencias, donde m = número de la secuencia, y n=ordinal de la porción a la que hace referencia el porcentaje: por ej.; primero cuarto = 1, segundo cuarto = 2, tercer cuarto = 3, cuarto cuarto = 4. \n",
    "\n",
    "2. __Devolverá__ una lista de listas con los porcentajes en el formato indicado en el anterior párrafo. \n",
    "\n",
    "\n",
    "_Nota 1_: Prueba tú codigo con los ficheros `../materiales-bio-python/labs/oric.fasta` y `../materiales-bio-python/labs/covid-samples.fasta`\n",
    "\n",
    "_Nota 2_: Sí Python no encuentra alguno de los ficheros, prueba a resincronizar! \n",
    "\n",
    "_Nota 3_: Algunos ficheros FASTA contienen saltos de línea (`\\n`): has de eliminarlos! "
   ]
  },
  {
   "cell_type": "code",
   "execution_count": 212,
   "metadata": {
    "nbgrader": {
     "grade": true,
     "grade_id": "cell-1e980d1958ecfc50",
     "locked": false,
     "points": 5,
     "schema_version": 3,
     "solution": true,
     "task": false
    }
   },
   "outputs": [],
   "source": [
    "def calcula_frecuencia(nucleotido, porcion):\n",
    "    return 100 * porcion.count(nucleotido) / len(porcion)\n",
    "\n",
    "def parte_secuencia_bien(sec, n):\n",
    "    porciones = []\n",
    "    porcion_len = int(len(sec) / n)\n",
    "    for i in range(n):\n",
    "        if i == n - 1:\n",
    "            porciones.append(sec[porcion_len * i:])\n",
    "        else:\n",
    "            porciones.append(sec[porcion_len * i:porcion_len * i + porcion_len])\n",
    "    return porciones\n",
    "\n",
    "def imprime_salva_informe(sec_nombres, freqs, alfabeto, fichero_destino, imprime=True):\n",
    "    lineas = []\n",
    "    fd = open(fichero_destino, \"w\")\n",
    "    for i,freqs_secuencia in enumerate(freqs):\n",
    "        if imprime:\n",
    "            print(sec_nombres[i])\n",
    "        lineas.append(sec_nombres[i] + '\\n')\n",
    "        \n",
    "        for j, freqs_nucl in enumerate(freqs_secuencia):\n",
    "            freqs_nucl_print = [\"%.4f%%\" % freq for freq in freqs_nucl]\n",
    "            print(alfabeto[j] + \": \" + str(freqs_nucl_print))\n",
    "            lineas.append(alfabeto[j] + \": \" + str(freqs_nucl_print) + '\\n')\n",
    "        \n",
    "        if imprime:\n",
    "            print()\n",
    "            \n",
    "        lineas.append('\\n')\n",
    "    fd.writelines(lineas)\n",
    "    fd.close()\n",
    "\n",
    "def informe_nucleotidos(archivo_fasta, porciones, alfabeto):\n",
    "    fd = open(archivo_fasta, \"r\")\n",
    "    covid_secs = fd.readlines()\n",
    "    sec_names = []\n",
    "    secs = []\n",
    "    freqs = []\n",
    "    i = 0\n",
    "    while(True):\n",
    "        sec_name = covid_secs[i].strip(\">\").strip(\"\\n\")\n",
    "        sec = ''\n",
    "        i+=1\n",
    "        while(i < len(covid_secs) and covid_secs[i][0] != '>'):\n",
    "            sec += covid_secs[i].strip('\\n')\n",
    "            i+=1\n",
    "        sec = sec.upper()\n",
    "        \n",
    "        sec_names.append(sec_name) \n",
    "        secs.append(sec)\n",
    "        \n",
    "        partes = parte_secuencia(sec, porciones)\n",
    "        \n",
    "        freqs_secuencia = []\n",
    "        for n in alfabeto:\n",
    "            freqs_nucleotido = []\n",
    "            for parte in partes:\n",
    "                freqs_nucleotido.append(calcula_frecuencia(n, parte))\n",
    "            freqs_secuencia.append(freqs_nucleotido)\n",
    "        \n",
    "        freqs.append(freqs_secuencia)\n",
    "        \n",
    "        if i == len(covid_secs):\n",
    "            break\n",
    "    \n",
    "    fichero_destino = 'informe_%s.txt' % archivo_fasta.split(\"/\")[-1]\n",
    "    imprime_salva_informe(sec_names, freqs, alfabeto, fichero_destino)\n",
    "    fd.close()\n",
    "    return freqs"
   ]
  },
  {
   "cell_type": "code",
   "execution_count": 213,
   "metadata": {},
   "outputs": [
    {
     "name": "stdout",
     "output_type": "stream",
     "text": [
      "oriC [Vibrio cholerae]\n",
      "A: ['30.3704%', '22.9630%', '25.1852%', '22.2222%']\n",
      "C: ['24.4444%', '20.0000%', '22.2222%', '23.7037%']\n",
      "T: ['26.6667%', '29.6296%', '34.8148%', '37.7778%']\n",
      "G: ['18.5185%', '27.4074%', '17.7778%', '16.2963%']\n",
      "\n",
      "oriC [Thermotoga petrophila]\n",
      "A: ['28.1481%', '34.0741%', '33.3333%', '34.0741%']\n",
      "C: ['11.1111%', '17.7778%', '27.4074%', '23.7037%']\n",
      "T: ['42.9630%', '31.1111%', '27.4074%', '28.8889%']\n",
      "G: ['17.7778%', '17.0370%', '11.8519%', '13.3333%']\n",
      "\n"
     ]
    },
    {
     "data": {
      "text/plain": [
       "[[[30.37037037037037,\n",
       "   22.962962962962962,\n",
       "   25.185185185185187,\n",
       "   22.22222222222222],\n",
       "  [24.444444444444443, 20.0, 22.22222222222222, 23.703703703703702],\n",
       "  [26.666666666666668,\n",
       "   29.62962962962963,\n",
       "   34.81481481481482,\n",
       "   37.77777777777778],\n",
       "  [18.51851851851852,\n",
       "   27.40740740740741,\n",
       "   17.77777777777778,\n",
       "   16.296296296296298]],\n",
       " [[28.14814814814815,\n",
       "   34.074074074074076,\n",
       "   33.333333333333336,\n",
       "   34.074074074074076],\n",
       "  [11.11111111111111,\n",
       "   17.77777777777778,\n",
       "   27.40740740740741,\n",
       "   23.703703703703702],\n",
       "  [42.96296296296296, 31.11111111111111, 27.40740740740741, 28.88888888888889],\n",
       "  [17.77777777777778,\n",
       "   17.037037037037038,\n",
       "   11.851851851851851,\n",
       "   13.333333333333334]]]"
      ]
     },
     "execution_count": 213,
     "metadata": {},
     "output_type": "execute_result"
    }
   ],
   "source": [
    "informe_nucleotidos('../labs/oric.fasta', 4, ('A', 'C', 'T', 'G'))"
   ]
  },
  {
   "cell_type": "code",
   "execution_count": 197,
   "metadata": {},
   "outputs": [
    {
     "name": "stdout",
     "output_type": "stream",
     "text": [
      "MW186669.1 |Severe acute respiratory syndrome coronavirus 2 isolate SARS-CoV-2/human/EGY/Cairo-sample 19 MOH/2020, complete genome\n",
      "A: ['30.7383%', '28.8490%', '30.3497%', '29.4401%']\n",
      "C: ['17.8481%', '17.6471%', '17.4863%', '20.5331%']\n",
      "T: ['31.0733%', '33.8068%', '32.8018%', '30.8867%']\n",
      "G: ['20.3135%', '19.6972%', '19.3622%', '19.1401%']\n",
      "N: ['0.0000%', '0.0000%', '0.0000%', '0.0000%']\n",
      "\n",
      "MW186829.1 |Severe acute respiratory syndrome coronavirus 2 isolate SARS-CoV-2/human/EGY/Cairo-sample 2 MOH/2020 ORF1ab polyprotein (ORF1ab), ORF1a polyprotein (ORF1ab), surface glycoprotein (S), ORF3a protein (ORF3a), envelope protein (E), membrane glycoprotein (M), ORF6 protein (ORF6), ORF7a protein (ORF7a), ORF7b (ORF7b), ORF8 protein (ORF8), nucleocapsid phosphoprotein (N), and ORF10 protein (ORF10) genes, complete cds\n",
      "A: ['30.7032%', '25.7917%', '29.3747%', '28.5963%']\n",
      "C: ['17.7805%', '15.6871%', '16.8814%', '19.9410%']\n",
      "T: ['31.1997%', '29.4149%', '31.9377%', '29.7772%']\n",
      "G: ['20.2899%', '17.4987%', '18.8406%', '18.5722%']\n",
      "N: ['0.0000%', '11.5674%', '2.9656%', '3.1133%']\n",
      "\n",
      "MW186830.1 |Severe acute respiratory syndrome coronavirus 2 isolate SARS-CoV-2/human/EGY/Cairo-sample 8 MOH/2020 ORF1ab polyprotein (ORF1ab), ORF1a polyprotein (ORF1ab), surface glycoprotein (S), ORF3a protein (ORF3a), envelope protein (E), membrane glycoprotein (M), ORF6 protein (ORF6), ORF7a protein (ORF7a), ORF7b (ORF7b), ORF8 protein (ORF8), nucleocapsid phosphoprotein (N), and ORF10 protein (ORF10) genes, complete cds\n",
      "A: ['30.7300%', '27.5497%', '29.4283%', '28.5427%']\n",
      "C: ['17.7536%', '16.8143%', '16.8814%', '20.0215%']\n",
      "T: ['31.1326%', '31.6559%', '31.9109%', '29.7907%']\n",
      "G: ['20.3838%', '18.6930%', '18.9077%', '18.5990%']\n",
      "N: ['0.0000%', '5.1932%', '2.8717%', '3.0462%']\n",
      "\n",
      "MW181431.1 |Severe acute respiratory syndrome coronavirus 2 isolate SARS-CoV-2/human/USA/UT-00020/2020 ORF1ab polyprotein (ORF1ab), ORF1a polyprotein (ORF1ab), surface glycoprotein (S), ORF3a protein (ORF3a), envelope protein (E), membrane glycoprotein (M), ORF6 protein (ORF6), ORF7a protein (ORF7a), ORF7b (ORF7b), ORF8 protein (ORF8), nucleocapsid phosphoprotein (N), and ORF10 protein (ORF10) genes, complete cds\n",
      "A: ['29.7124%', '28.8696%', '30.3813%', '28.9632%']\n",
      "C: ['17.3512%', '17.6589%', '17.4448%', '19.8127%']\n",
      "T: ['29.9666%', '33.7926%', '32.8027%', '29.8997%']\n",
      "G: ['19.5853%', '19.6789%', '19.3712%', '18.5686%']\n",
      "N: ['3.3846%', '0.0000%', '0.0000%', '2.7559%']\n",
      "\n"
     ]
    },
    {
     "data": {
      "text/plain": [
       "[[[30.73830899102238,\n",
       "   28.848988342489616,\n",
       "   30.349725311536915,\n",
       "   29.44012858290919],\n",
       "  [17.84805038188396,\n",
       "   17.647058823529413,\n",
       "   17.486265576845774,\n",
       "   20.53308331100991],\n",
       "  [31.073294921613293,\n",
       "   33.80678011523516,\n",
       "   32.80182232346242,\n",
       "   30.886686311277792],\n",
       "  [20.313546831033097,\n",
       "   19.69717271874581,\n",
       "   19.362186788154897,\n",
       "   19.14010179480311],\n",
       "  [0.0, 0.0, 0.0, 0.0]],\n",
       " [[30.703166935050994,\n",
       "   25.791733762748255,\n",
       "   29.374664519592056,\n",
       "   28.59634997316157],\n",
       "  [17.780461621041333,\n",
       "   15.687063875469672,\n",
       "   16.881374127750938,\n",
       "   19.940955448201827],\n",
       "  [31.199677938808374,\n",
       "   29.414922168545356,\n",
       "   31.93773483628556,\n",
       "   29.777241009125067],\n",
       "  [20.28985507246377,\n",
       "   17.498658078368223,\n",
       "   18.840579710144926,\n",
       "   18.572195383789587],\n",
       "  [0.0, 11.56736446591519, 2.965646806226516, 3.113258185721954]],\n",
       " [[30.730005367686527,\n",
       "   27.549651100375737,\n",
       "   29.428341384863124,\n",
       "   28.5426731078905],\n",
       "  [17.753623188405797,\n",
       "   16.814278046162105,\n",
       "   16.881374127750938,\n",
       "   20.021470746108427],\n",
       "  [31.132581857219538,\n",
       "   31.655931293612454,\n",
       "   31.910896403650028,\n",
       "   29.790660225442835],\n",
       "  [20.38378958668814,\n",
       "   18.69296833064949,\n",
       "   18.907675791733762,\n",
       "   18.59903381642512],\n",
       "  [0.0, 5.193236714975845, 2.871712292002147, 3.046162104133119]],\n",
       " [[29.712374581939798,\n",
       "   28.869565217391305,\n",
       "   30.381270903010034,\n",
       "   28.963210702341136],\n",
       "  [17.351170568561873,\n",
       "   17.65886287625418,\n",
       "   17.444816053511705,\n",
       "   19.812709030100333],\n",
       "  [29.96655518394649,\n",
       "   33.792642140468224,\n",
       "   32.802675585284284,\n",
       "   29.899665551839465],\n",
       "  [19.585284280936456,\n",
       "   19.678929765886288,\n",
       "   19.37123745819398,\n",
       "   18.568561872909697],\n",
       "  [3.3846153846153846, 0.0, 0.0, 2.7558528428093645]]]"
      ]
     },
     "execution_count": 197,
     "metadata": {},
     "output_type": "execute_result"
    }
   ],
   "source": [
    "informe_nucleotidos('../data/covid-samples.fasta', 4, ('A', 'C', 'T', 'G', 'N'))"
   ]
  },
  {
   "cell_type": "code",
   "execution_count": 114,
   "metadata": {},
   "outputs": [],
   "source": [
    "def parte_secuencia(sec, n):\n",
    "    porciones = []\n",
    "    porcion_len = int(len(sec) / n)\n",
    "    print(porcion_len)\n",
    "    print()\n",
    "    for i in range(n):\n",
    "        if i == n - 1:\n",
    "            porciones.append(sec[porcion_len * i:])\n",
    "        else:\n",
    "            porciones.append(sec[porcion_len * i:porcion_len * i + porcion_len])\n",
    "    return porciones\n",
    "        "
   ]
  },
  {
   "cell_type": "code",
   "execution_count": 210,
   "metadata": {},
   "outputs": [
    {
     "name": "stdout",
     "output_type": "stream",
     "text": [
      "abcdefghijk\n",
      "2 ab\n",
      "2 cd\n",
      "2 ef\n",
      "5 ghijk\n"
     ]
    }
   ],
   "source": [
    "cadena = \"abcdefghijk\"\n",
    "print(cadena)\n",
    "for parte in parte_secuencia(cadena, 4):\n",
    "    print(len(parte), parte)"
   ]
  },
  {
   "cell_type": "code",
   "execution_count": 208,
   "metadata": {},
   "outputs": [],
   "source": [
    "def parte_secuencia_bien(sec, n):\n",
    "    porciones = []\n",
    "    porcion_len = int(1.0 * len(sec) / n + 0.5)\n",
    "    for i in range (0, n):\n",
    "        if i == n - 1:\n",
    "            porciones.append(sec[porcion_len * i:])\n",
    "        else:\n",
    "            porciones.append(sec[porcion_len * i:porcion_len * i + porcion_len])\n",
    "    return porciones"
   ]
  },
  {
   "cell_type": "code",
   "execution_count": 211,
   "metadata": {},
   "outputs": [
    {
     "name": "stdout",
     "output_type": "stream",
     "text": [
      "3 abc\n",
      "3 def\n",
      "3 ghi\n",
      "2 jk\n"
     ]
    }
   ],
   "source": [
    "for parte in parte_secuencia_bien(cadena, 4):\n",
    "    print(len(parte), parte)"
   ]
  },
  {
   "cell_type": "markdown",
   "metadata": {},
   "source": [
    "# Problema 2 (5 puntos)\n",
    "\n",
    "Considera la secuencia `CGATATATCCATAG`. \n",
    "\n",
    "1. ¿Cuántas veces aparece el patrón 'ATA'? \n",
    "2. ¿Qué devuelve la función count de esa cadena? ¿Ves algún problema?\n",
    "3. Si respondiste \"sí\", ¿por qué crees que ocurre esto? Razona y explica una posible solución para este problema.\n"
   ]
  },
  {
   "cell_type": "code",
   "execution_count": 1,
   "metadata": {},
   "outputs": [
    {
     "name": "stdout",
     "output_type": "stream",
     "text": [
      "2\n"
     ]
    }
   ],
   "source": [
    "seq = \"CGATATATCCATAG\"\n",
    "#1. El patrón ATA aparece 3 veces\n",
    "#2 \n",
    "print(seq.count(\"ATA\"))\n"
   ]
  },
  {
   "cell_type": "markdown",
   "metadata": {
    "nbgrader": {
     "grade": true,
     "grade_id": "cell-2dc1bdd5df6f20b7",
     "locked": false,
     "points": 5,
     "schema_version": 3,
     "solution": true,
     "task": false
    }
   },
   "source": [
    "__Explicación__\n",
    "1. El patrón ATA aparece 3 veces.\n",
    "2. `seq.count(\"ATA\")` devuelve 2. Efectivamente, hay un problema.\n",
    "3. Ocurre porque `count()` no tiene en cuenta ocurrencias solapadas de los patrones, como se da en esta secuencia. Una manera de solventar este problema es lanzar una búsqueda incremental del patrón:"
   ]
  },
  {
   "cell_type": "code",
   "execution_count": 43,
   "metadata": {},
   "outputs": [],
   "source": [
    "def cuentaPatron(secuencia, patron):\n",
    "    contador = 0 # en esta variable guardo el número de veces que encuentro el patrón.\n",
    "    pos = secuencia.find(patron, 0) # busco el patrón empezando en la posición inicial 0 y guardo la posición en la que aparece.\n",
    "    indice_comienzo=pos+1  # la siguiente búsqueda la iniciaré a partir de la posición donde empezaba el patrón + 1.\n",
    "    while (pos != -1): # mientras el patrón se encuentre...\n",
    "        contador += 1 # aumento el contador por cada vez que se encuentre y...\n",
    "        pos = secuencia.find(patron, indice_comienzo) # Busco de nuevo el patrón esta vez en una posición más a la derecha.\n",
    "        indice_comienzo = pos+1 # Guardo el índice de la ocurrencia + 1 para empezar a partir de ahí la próxima búsqueda.\n",
    "    return contador # Finalmente, devuelvo el contador :) "
   ]
  },
  {
   "cell_type": "code",
   "execution_count": 44,
   "metadata": {},
   "outputs": [
    {
     "data": {
      "text/plain": [
       "3"
      ]
     },
     "execution_count": 44,
     "metadata": {},
     "output_type": "execute_result"
    }
   ],
   "source": [
    "cuentaPatron(\"CGATATATCCATAG\", \"ATA\")"
   ]
  },
  {
   "cell_type": "code",
   "execution_count": 45,
   "metadata": {},
   "outputs": [
    {
     "data": {
      "text/plain": [
       "3"
      ]
     },
     "execution_count": 45,
     "metadata": {},
     "output_type": "execute_result"
    }
   ],
   "source": [
    "cuentaPatron(\"ACAACTATGCATACTATCGGGAACTATCCT\", \"ACTAT\")"
   ]
  },
  {
   "cell_type": "code",
   "execution_count": null,
   "metadata": {},
   "outputs": [],
   "source": []
  }
 ],
 "metadata": {
  "celltoolbar": "Create Assignment",
  "kernelspec": {
   "display_name": "Python 3",
   "language": "python",
   "name": "python3"
  },
  "language_info": {
   "codemirror_mode": {
    "name": "ipython",
    "version": 3
   },
   "file_extension": ".py",
   "mimetype": "text/x-python",
   "name": "python",
   "nbconvert_exporter": "python",
   "pygments_lexer": "ipython3",
   "version": "3.7.4"
  }
 },
 "nbformat": 4,
 "nbformat_minor": 4
}
