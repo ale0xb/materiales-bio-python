{
 "cells": [
  {
   "cell_type": "markdown",
   "metadata": {
    "nbgrader": {
     "grade": false,
     "grade_id": "cell-07d960a571b75563",
     "locked": true,
     "schema_version": 3,
     "solution": false,
     "task": false
    }
   },
   "source": [
    "# Problema 1 (5 puntos)\n",
    "\n",
    "Define una función `informe_nucleotidos(archivo_fasta, porciones, alfabeto)` que calcule el porcentaje de nucleótidos en cada porción de cada secuencia almacenada en un archivo fasta dado. \n",
    "\n",
    "Por ejemplo, si se le pasa `porciones=4` y `alfabeto=[\"A\", \"C\", \"G\", \"T\"]`, la función encontrará, para cada secuencia, el porcentaje de nucleótidos en el primer, segundo, tercer y cuarto cuarto de cada secuencia. \n",
    "Análogamente, si se pasase `porciones=5`, obtendría los porcentajes para el primer, segundo, tercer, cuarto, y quinto quintos, etc. \n",
    "\n",
    "Al terminar el cálculo, la función:\n",
    "1. __Escribirá__ a un segundo fichero un informe de nombre `informe_<archivo_fasta>.txt` con el siguiente formato (ejemplo para `porciones=4`):\n",
    "\n",
    "```\n",
    "secuencia_1 \n",
    "A: [Ap11, Ap12, Ap13, Ap14]\n",
    "C: [Cp11, Cp12, Cp13, Cp14]\n",
    "T: [Tp11, Tp12, Tp13, Tp14]\n",
    "G: [Gp11, Gp21, Gp31, Gp41]\n",
    "\n",
    "secuencia_2\n",
    "A: [Ap21, Ap22, Ap23, Ap4]\n",
    "C: [Cp21, Cp22, Cp23, Cp4]\n",
    "T: [Tp21, Tp22, Tp23, Tp4]\n",
    "G: [Gp21, Gp22, Gp23, Gp4]\n",
    "\n",
    "...\n",
    "\n",
    "secuencia_n\n",
    "A: [Apn1, Apn2, Apn3, Apn4]\n",
    "C: [Cpn1, Cpn2, Cpn3, Cpn4]\n",
    "T: [Tpn1, Tpn2, Tpn3, Tpn4]\n",
    "G: [Gpn1, Gpn2, Gpn3, Gpn4]\n",
    "```\n",
    "\n",
    "Donde los valores {A,C,T,G}pmn son los porcentajes de cada nucleótido encontrados en cada porción para cada una de las secuencias, donde m = número de la secuencia, y n=ordinal de la porción a la que hace referencia el porcentaje: por ej.; primero cuarto = 1, segundo cuarto = 2, tercer cuarto = 3, cuarto cuarto = 4. \n",
    "\n",
    "2. __Devolverá__ una lista de listas con los porcentajes en el formato indicado en el anterior párrafo. \n",
    "\n",
    "\n",
    "_Nota 1_: Prueba tú codigo con los ficheros `../materiales-bio-python/labs/oric.fasta` y `../materiales-bio-python/labs/covid-samples.fasta`\n",
    "\n",
    "_Nota 2_: Sí Python no encuentra alguno de los ficheros, prueba a resincronizar! \n",
    "\n",
    "_Nota 3_: Algunos ficheros FASTA contienen saltos de línea (`\\n`): has de eliminarlos! "
   ]
  },
  {
   "cell_type": "code",
   "execution_count": null,
   "metadata": {
    "nbgrader": {
     "grade": true,
     "grade_id": "cell-1e980d1958ecfc50",
     "locked": false,
     "points": 5,
     "schema_version": 3,
     "solution": true,
     "task": false
    }
   },
   "outputs": [],
   "source": [
    "def calcula_frecuencia(nucleotido, porcion):\n",
    "    return 100 * porcion.count(nucleotido) / len(porcion)\n",
    "\n",
    "def parte_secuencia_bien(sec, n):\n",
    "    porciones = []\n",
    "    porcion_len = int(len(sec) / n)\n",
    "    for i in range(n):\n",
    "        if i == n - 1:\n",
    "            porciones.append(sec[porcion_len * i:])\n",
    "        else:\n",
    "            porciones.append(sec[porcion_len * i:porcion_len * i + porcion_len])\n",
    "    return porciones\n",
    "\n",
    "def imprime_salva_informe(sec_nombres, freqs, alfabeto, fichero_destino, imprime=True):\n",
    "    lineas = []\n",
    "    fd = open(fichero_destino, \"w\")\n",
    "    for i,freqs_secuencia in enumerate(freqs):\n",
    "        if imprime:\n",
    "            print(sec_nombres[i])\n",
    "        lineas.append(sec_nombres[i] + '\\n')\n",
    "        \n",
    "        for j, freqs_nucl in enumerate(freqs_secuencia):\n",
    "            freqs_nucl_print = [\"%.4f%%\" % freq for freq in freqs_nucl]\n",
    "            print(alfabeto[j] + \": \" + str(freqs_nucl_print))\n",
    "            lineas.append(alfabeto[j] + \": \" + str(freqs_nucl_print) + '\\n')\n",
    "        \n",
    "        if imprime:\n",
    "            print()\n",
    "            \n",
    "        lineas.append('\\n')\n",
    "    fd.writelines(lineas)\n",
    "    fd.close()\n",
    "\n",
    "def informe_nucleotidos(archivo_fasta, porciones, alfabeto):\n",
    "    fd = open(archivo_fasta, \"r\")\n",
    "    covid_secs = fd.readlines()\n",
    "    sec_names = []\n",
    "    secs = []\n",
    "    freqs = []\n",
    "    i = 0\n",
    "    while(True):\n",
    "        sec_name = covid_secs[i].strip(\">\").strip(\"\\n\")\n",
    "        sec = ''\n",
    "        i+=1\n",
    "        while(i < len(covid_secs) and covid_secs[i][0] != '>'):\n",
    "            sec += covid_secs[i].strip('\\n')\n",
    "            i+=1\n",
    "        sec = sec.upper()\n",
    "        \n",
    "        sec_names.append(sec_name) \n",
    "        secs.append(sec)\n",
    "        \n",
    "        partes = parte_secuencia(sec, porciones)\n",
    "        \n",
    "        freqs_secuencia = []\n",
    "        for n in alfabeto:\n",
    "            freqs_nucleotido = []\n",
    "            for parte in partes:\n",
    "                freqs_nucleotido.append(calcula_frecuencia(n, parte))\n",
    "            freqs_secuencia.append(freqs_nucleotido)\n",
    "        \n",
    "        freqs.append(freqs_secuencia)\n",
    "        \n",
    "        if i == len(covid_secs):\n",
    "            break\n",
    "    \n",
    "    fichero_destino = 'informe_%s.txt' % archivo_fasta.split(\"/\")[-1]\n",
    "    imprime_salva_informe(sec_names, freqs, alfabeto, fichero_destino)\n",
    "    fd.close()\n",
    "    return freqs"
   ]
  },
  {
   "cell_type": "code",
   "execution_count": null,
   "metadata": {},
   "outputs": [],
   "source": [
    "informe_nucleotidos('../labs/oric.fasta', 4, ('A', 'C', 'T', 'G'))"
   ]
  },
  {
   "cell_type": "code",
   "execution_count": null,
   "metadata": {},
   "outputs": [],
   "source": [
    "informe_nucleotidos('../data/covid-samples.fasta', 4, ('A', 'C', 'T', 'G', 'N'))"
   ]
  },
  {
   "cell_type": "markdown",
   "metadata": {},
   "source": [
    "__Partiendo las cadenas__\n",
    "Se reduce todo a un problema de redondeos y de cómo crear trozos lo más iguales posible. "
   ]
  },
  {
   "cell_type": "code",
   "execution_count": null,
   "metadata": {},
   "outputs": [],
   "source": [
    "#Problemilla :) ver https://docs.python.org/3/tutorial/floatingpoint.html\n",
    "print(round(2.50000), round(3.50000))"
   ]
  },
  {
   "cell_type": "code",
   "execution_count": null,
   "metadata": {},
   "outputs": [],
   "source": [
    "def parte_secuencia(sec, n, redondeo='floor'):\n",
    "    porciones = []\n",
    "    if redondeo == 'floor':\n",
    "        porcion_len = int(len(sec) / n) # Redondeamos al entero que resulta de eliminar la parte decimal.\n",
    "    else:\n",
    "        porcion_len = int(1.0 * len(sec) / n + 0.5) # Redondeamos al entero más cercano (intervalo cerrado)\n",
    "        # porcion_len = round(len(sec) / n) # Podría usar esto, pero también tendría problemas...\n",
    "    print(\"porcion_len es %d\" % porcion_len)\n",
    "    print()\n",
    "    for i in range(n):\n",
    "        if i == n - 1:\n",
    "            porciones.append(sec[porcion_len * i:])\n",
    "        else:\n",
    "            porciones.append(sec[porcion_len * i:porcion_len * i + porcion_len])\n",
    "    return porciones\n",
    "        "
   ]
  },
  {
   "cell_type": "code",
   "execution_count": null,
   "metadata": {},
   "outputs": [],
   "source": [
    "cadena = \"abcdefghij\"\n",
    "print(\"Cadena tiene %d caracteres\" % len(cadena))\n",
    "print()\n",
    "for parte in parte_secuencia(cadena, 4, 'floor'):\n",
    "    print(len(parte), parte)\n",
    "print()\n",
    "for parte in parte_secuencia(cadena, 4, 'closest'):\n",
    "    print(len(parte), parte)"
   ]
  },
  {
   "cell_type": "code",
   "execution_count": null,
   "metadata": {},
   "outputs": [],
   "source": [
    "n=4\n",
    "for i in range(5, 26):\n",
    "    print(\"%d (%f) A: %d, B: %d, C:%d\" %(i, i / n, int(i / n), int(i / n + 0.5), round(i/n)))"
   ]
  },
  {
   "cell_type": "markdown",
   "metadata": {},
   "source": [
    "# Problema 2 (5 puntos)\n",
    "\n",
    "Considera la secuencia `CGATATATCCATAG`. \n",
    "\n",
    "1. ¿Cuántas veces aparece el patrón 'ATA'? \n",
    "2. ¿Qué devuelve la función count de esa cadena? ¿Ves algún problema?\n",
    "3. Si respondiste \"sí\", ¿por qué crees que ocurre esto? Razona y explica una posible solución para este problema.\n"
   ]
  },
  {
   "cell_type": "code",
   "execution_count": null,
   "metadata": {},
   "outputs": [],
   "source": [
    "seq = \"CGATATATCCATAG\"\n",
    "#1. El patrón ATA aparece 3 veces\n",
    "#2 \n",
    "print(seq.count(\"ATA\"))\n"
   ]
  },
  {
   "cell_type": "markdown",
   "metadata": {
    "nbgrader": {
     "grade": true,
     "grade_id": "cell-2dc1bdd5df6f20b7",
     "locked": false,
     "points": 5,
     "schema_version": 3,
     "solution": true,
     "task": false
    }
   },
   "source": [
    "__Explicación__\n",
    "1. El patrón ATA aparece 3 veces.\n",
    "2. `seq.count(\"ATA\")` devuelve 2. Efectivamente, hay un problema.\n",
    "3. Ocurre porque `count()` no tiene en cuenta ocurrencias solapadas de los patrones, como se da en esta secuencia. Una manera de solventar este problema es lanzar una búsqueda incremental del patrón:"
   ]
  },
  {
   "cell_type": "code",
   "execution_count": null,
   "metadata": {},
   "outputs": [],
   "source": [
    "def cuentaPatron(secuencia, patron):\n",
    "    contador = 0 # en esta variable guardo el número de veces que encuentro el patrón.\n",
    "    pos = secuencia.find(patron, 0) # busco el patrón empezando en la posición inicial 0 y guardo la posición en la que aparece.\n",
    "    indice_comienzo=pos+1  # la siguiente búsqueda la iniciaré a partir de la posición donde empezaba el patrón + 1.\n",
    "    while (pos != -1): # mientras el patrón se encuentre...\n",
    "        contador += 1 # aumento el contador por cada vez que se encuentre y...\n",
    "        pos = secuencia.find(patron, indice_comienzo) # Busco de nuevo el patrón esta vez en una posición más a la derecha.\n",
    "        indice_comienzo = pos+1 # Guardo el índice de la ocurrencia + 1 para empezar a partir de ahí la próxima búsqueda.\n",
    "    return contador # Finalmente, devuelvo el contador :) "
   ]
  },
  {
   "cell_type": "code",
   "execution_count": null,
   "metadata": {},
   "outputs": [],
   "source": [
    "cuentaPatron(\"CGATATATCCATAG\", \"ATA\")"
   ]
  }
 ],
 "metadata": {
  "celltoolbar": "Create Assignment",
  "kernelspec": {
   "display_name": "Python 3",
   "language": "python",
   "name": "python3"
  },
  "language_info": {
   "codemirror_mode": {
    "name": "ipython",
    "version": 3
   },
   "file_extension": ".py",
   "mimetype": "text/x-python",
   "name": "python",
   "nbconvert_exporter": "python",
   "pygments_lexer": "ipython3",
   "version": "3.7.4"
  }
 },
 "nbformat": 4,
 "nbformat_minor": 4
}
