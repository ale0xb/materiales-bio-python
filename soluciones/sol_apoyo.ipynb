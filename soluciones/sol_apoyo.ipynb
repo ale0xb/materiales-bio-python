{
 "cells": [
  {
   "cell_type": "markdown",
   "metadata": {
    "nbgrader": {
     "grade": false,
     "grade_id": "cell-f7033b9bcf11d2a7",
     "locked": true,
     "schema_version": 3,
     "solution": false,
     "task": false
    }
   },
   "source": [
    "# Ejercicios de apoyo\n",
    "\n",
    "## Ejercicio 1 (2 puntos)\n",
    "Escribe una función `numeros_1(limite_inferior, limite_superior)` que devuelva los números que sean divisibles por 7 pero no sean múltiplos de 5 entre dos números dados (ambos incluidos)."
   ]
  },
  {
   "cell_type": "code",
   "execution_count": null,
   "metadata": {
    "nbgrader": {
     "grade": false,
     "grade_id": "cell-8ba2dfd8e9973e4c",
     "locked": false,
     "schema_version": 3,
     "solution": true,
     "task": false
    }
   },
   "outputs": [],
   "source": [
    "def numeros_1(limite_inferior, limite_superior):\n",
    "    l =[]\n",
    "    for i in range(limite_inferior, limite_superior+1):\n",
    "        if i % 7 == 0 and i % 5 != 0:\n",
    "            l.append(i)\n",
    "    return l"
   ]
  },
  {
   "cell_type": "code",
   "execution_count": null,
   "metadata": {
    "nbgrader": {
     "grade": true,
     "grade_id": "cell-74c2ff470b100b37",
     "locked": true,
     "points": 2,
     "schema_version": 3,
     "solution": false,
     "task": false
    }
   },
   "outputs": [],
   "source": [
    "assert(numeros_1(0, 7) == [7])\n",
    "assert(numeros_1(0, 14) == [7, 14])\n",
    "assert(numeros_1(120, 350) == [126,\n",
    " 133,\n",
    " 147,\n",
    " 154,\n",
    " 161,\n",
    " 168,\n",
    " 182,\n",
    " 189,\n",
    " 196,\n",
    " 203,\n",
    " 217,\n",
    " 224,\n",
    " 231,\n",
    " 238,\n",
    " 252,\n",
    " 259,\n",
    " 266,\n",
    " 273,\n",
    " 287,\n",
    " 294,\n",
    " 301,\n",
    " 308,\n",
    " 322,\n",
    " 329,\n",
    " 336,\n",
    " 343])"
   ]
  },
  {
   "cell_type": "markdown",
   "metadata": {
    "nbgrader": {
     "grade": false,
     "grade_id": "cell-486b0a6ac86dcf7e",
     "locked": true,
     "schema_version": 3,
     "solution": false,
     "task": false
    }
   },
   "source": [
    "## Ejercicio 2 (2 puntos)\n",
    "\n",
    "Escribe una función `suma(lista)` que devuelva la suma de todos los elementos de una lista."
   ]
  },
  {
   "cell_type": "code",
   "execution_count": null,
   "metadata": {
    "nbgrader": {
     "grade": false,
     "grade_id": "cell-dafe590def2b656f",
     "locked": false,
     "schema_version": 3,
     "solution": true,
     "task": false
    }
   },
   "outputs": [],
   "source": [
    "def suma(lista):\n",
    "    acc = 0\n",
    "    for e in lista:\n",
    "        acc += e\n",
    "    return acc"
   ]
  },
  {
   "cell_type": "code",
   "execution_count": null,
   "metadata": {
    "nbgrader": {
     "grade": true,
     "grade_id": "cell-0603fcd7515919ea",
     "locked": true,
     "points": 2,
     "schema_version": 3,
     "solution": false,
     "task": false
    }
   },
   "outputs": [],
   "source": [
    "assert(suma([1,2,3,4,5]) == 15)\n",
    "assert(suma([1,2,3,4,5,6,7]) == 28)"
   ]
  },
  {
   "cell_type": "markdown",
   "metadata": {
    "nbgrader": {
     "grade": false,
     "grade_id": "cell-209a70ad0df0e8ad",
     "locked": true,
     "schema_version": 3,
     "solution": false,
     "task": false
    }
   },
   "source": [
    "## Ejercicio 3 (3 puntos)\n",
    "La función `cadena.replace(a, b)` de las cadenas reemplaza apariciones de la cadena \"a\" por la cadena \"b\" en \"cadena\".\n",
    "\n",
    "¿Puedes implementar tú una función similar `reemplaza(cadena, a, b)` que devuelva otra cadena en la que se hayan reemplazado todas las apariciones de \"a\" en \"cadena\" por \"b\"?"
   ]
  },
  {
   "cell_type": "code",
   "execution_count": null,
   "metadata": {
    "nbgrader": {
     "grade": false,
     "grade_id": "cell-1f3a4f692d246f99",
     "locked": false,
     "schema_version": 3,
     "solution": true,
     "task": false
    }
   },
   "outputs": [],
   "source": [
    "def reemplaza(cadena, a, b):\n",
    "    i = 0\n",
    "    cadena_resultado = ''\n",
    "    while i < len(cadena):\n",
    "        if cadena[i:i+len(a)] == a:\n",
    "            cadena_resultado += b\n",
    "            i = i + len(a)\n",
    "            continue\n",
    "        cadena_resultado += cadena[i]\n",
    "        i = i + 1\n",
    "    return cadena_resultado"
   ]
  },
  {
   "cell_type": "code",
   "execution_count": null,
   "metadata": {
    "nbgrader": {
     "grade": true,
     "grade_id": "cell-c20485dd20193354",
     "locked": true,
     "points": 3,
     "schema_version": 3,
     "solution": false,
     "task": false
    }
   },
   "outputs": [],
   "source": [
    "assert(reemplaza(\"Una frase cualquiera\", \"a\", \"e\") == 'Une frese cuelquiere')\n",
    "assert(reemplaza(\"Una frase cualquiera\", \"Una \", \"\") == 'frase cualquiera')\n",
    "assert(reemplaza(\"Una frase cualquiera\", \"Una\", \"No es una\") == 'No es una frase cualquiera')"
   ]
  },
  {
   "cell_type": "markdown",
   "metadata": {
    "nbgrader": {
     "grade": false,
     "grade_id": "cell-28415f43efd51e35",
     "locked": true,
     "schema_version": 3,
     "solution": false,
     "task": false
    }
   },
   "source": [
    "# Ejercicio 4 (4 puntos):\n",
    "Escribe la función `agrupa(tupla, numero)` que recibe una tupla de elementos y devuelve otra tupla que contiene los mismos elementos en grupos del número que se proporciona por parámetro."
   ]
  },
  {
   "cell_type": "code",
   "execution_count": null,
   "metadata": {
    "nbgrader": {
     "grade": false,
     "grade_id": "cell-2dce46e1e6944945",
     "locked": false,
     "schema_version": 3,
     "solution": true,
     "task": false
    }
   },
   "outputs": [],
   "source": [
    "# \n",
    "def agrupa(tupla, numero):\n",
    "    res = [] \n",
    "    for i in range(0, len(tupla), numero):\n",
    "        interm = []\n",
    "        for j in range(numero):\n",
    "            if i+j < len(tupla):\n",
    "                interm.append(tupla[i+j])\n",
    "        res.append(tuple(interm))\n",
    "    return tuple(res)"
   ]
  },
  {
   "cell_type": "code",
   "execution_count": null,
   "metadata": {
    "nbgrader": {
     "grade": true,
     "grade_id": "cell-bf902f62b2b6193f",
     "locked": true,
     "points": 3,
     "schema_version": 3,
     "solution": false,
     "task": false
    }
   },
   "outputs": [],
   "source": [
    "assert(agrupa((1,2,3,4,5,6,7,8,9,10), 2) == ((1,2),(3,4),(5,6),(7,8),(9,10)))\n",
    "assert(agrupa((1,2,3,4,5,6,7,8,9,10), 3) == ((1,2,3),(4,5,6),(7,8,9),(10,))) #Ojo, el último elemento es una tupla!\n",
    "assert(agrupa((1,2,3,4,5,6,7,8,9,10), 4) == ((1, 2, 3, 4), (5, 6, 7, 8), (9, 10)))\n",
    "assert(agrupa((1,2,3,4,5,6,7,8,9,10), 5) == ((1, 2, 3, 4, 5), (6, 7, 8, 9, 10)))\n",
    "assert(agrupa((1,2,3,4,5,6,7,8,9,10), 6) == ((1, 2, 3, 4, 5, 6), (7, 8, 9, 10)))\n",
    "assert(agrupa((1,2,3,4,5,6,7,8,9,10), 7) == ((1, 2, 3, 4, 5, 6, 7), (8, 9, 10)))"
   ]
  }
 ],
 "metadata": {
  "celltoolbar": "Create Assignment",
  "kernelspec": {
   "display_name": "Python 3",
   "language": "python",
   "name": "python3"
  },
  "language_info": {
   "codemirror_mode": {
    "name": "ipython",
    "version": 3
   },
   "file_extension": ".py",
   "mimetype": "text/x-python",
   "name": "python",
   "nbconvert_exporter": "python",
   "pygments_lexer": "ipython3",
   "version": "3.7.4"
  }
 },
 "nbformat": 4,
 "nbformat_minor": 4
}
