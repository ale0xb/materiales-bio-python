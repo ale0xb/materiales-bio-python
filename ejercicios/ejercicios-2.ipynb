{
 "cells": [
  {
   "cell_type": "code",
   "execution_count": null,
   "metadata": {},
   "outputs": [],
   "source": [
    "import altair as alt"
   ]
  },
  {
   "cell_type": "markdown",
   "metadata": {},
   "source": [
    "# Análisis exploratorio visual del SARS-CoV-2\n",
    "\n",
    "En este ejercicio, vamos a aplicar algunos de los conocimientos que hemos ido adquiriendo durante el curso para \n",
    "visualizar el contenido en nucleótidos de unas cepas de coronavirus recientemente secuenciadas. \n",
    "\n",
    "En una primera parte, vamos a calcular cómo varía un k-mero a lo largo de cada uno de los genomas para después compararlos visualmente. \n",
    "\n",
    "En una segunda parte, vamos a extraer los k-meros más frecuentes y los visualizaremos por frecuencias y rangos en diagramas de barras para establecer diferencias y coincidencias entre las 4 secuencias. \n",
    "\n",
    "Primero, vamos a cargar el fasta con las secuencias para las 4 cepas de COVID:"
   ]
  },
  {
   "cell_type": "code",
   "execution_count": null,
   "metadata": {},
   "outputs": [],
   "source": [
    "fd = open(\"../data/covid-samples.fasta\")"
   ]
  },
  {
   "cell_type": "code",
   "execution_count": null,
   "metadata": {},
   "outputs": [],
   "source": [
    "covid_seqs = fd.readlines()"
   ]
  },
  {
   "cell_type": "code",
   "execution_count": null,
   "metadata": {},
   "outputs": [],
   "source": [
    "i = 0\n",
    "seqs = []\n",
    "while(i < len(covid_seqs)):\n",
    "    seq_name = covid_seqs[i].strip(\">\").strip(\"\\n\")\n",
    "    seq = ''\n",
    "    i+=1\n",
    "    while(i < len(covid_seqs) and covid_seqs[i][0] != '>'):\n",
    "        seq += covid_seqs[i].strip('\\n')\n",
    "        i+=1\n",
    "    seq = seq.upper()\n",
    "    seqs.append({\"seq_name\": seq_name, \"seq_short_name\": seq_name[:11], \"seq\": seq})"
   ]
  },
  {
   "cell_type": "code",
   "execution_count": null,
   "metadata": {},
   "outputs": [],
   "source": [
    "seqs"
   ]
  },
  {
   "cell_type": "code",
   "execution_count": null,
   "metadata": {},
   "outputs": [],
   "source": [
    "for seq_name in [seq['seq_name'] for seq in seqs]:\n",
    "    print(seq_name)\n",
    "    print()"
   ]
  },
  {
   "cell_type": "markdown",
   "metadata": {},
   "source": [
    "## Problema 1: Fluctuación de codones\n",
    "Ahora, vamos a ver cómo fluctúan ciertos k-mero (p. ej. codones) en cada una de las cepas. \n",
    "Para ello, vamos a resolver el siguiente problema:\n",
    "\n",
    "Dado un genoma G de longitud n, se da la necesidad de saber cómo fluctúan determinados nucleótidos (extensible a k-meros) a través del mismo. Para calcularlo, se quieren tener en cuenta los siguientes parámetros:\n",
    "\n",
    "- w: tamaño de la ventana (window) en la que se cuentan los k-meros\n",
    "- kmer: secuencia a buscar, de longitud menor que w\n",
    "- s: paso o salto (step) para avanzar a la siguiente ventana\n",
    "\n",
    "s y w permiten modular la ‘resolución’ de la búsqueda, y también la velocidad del algoritmo.\n",
    "\n",
    "Por lo tanto, vamos a definir la función `cuenta_kmero_ventana(seq_obj, w=1000, s=250, kmero='TGA')`, que busque el k-mero que se le pasa (búsqueda simple en cada ventana), y devuelva una lista de diccionarios con el siguiente formato:\n",
    "\n",
    "```\n",
    "{\n",
    "    \"i\": \"ventana #i\",\n",
    "    \"count\": \"frecuencia absoluta del kmero en la ventana #i\"\n",
    "}\n",
    "```\n",
    "\n",
    "1. El k-mero a buscar por defecto será el codón de inicio `\"AUG\"` (`\"ATG\"`).\n",
    "2. Usando Altair, y siguiendo lo que vimos en el lab6-b, dibuja la fluctuación de este codón en cada una de las secuencias.\n",
    "3. Luego intenta pintarlas todas juntas usando el operador de concatenación \"&\"."
   ]
  },
  {
   "cell_type": "code",
   "execution_count": null,
   "metadata": {},
   "outputs": [],
   "source": [
    "def cuenta_kmero_ventana(seq_obj, w=1000, s=250, kmero='ATG'):\n",
    "    i = 0\n",
    "    freqs = []\n",
    "    # Tu código aquí\n",
    "    return freqs"
   ]
  },
  {
   "cell_type": "code",
   "execution_count": null,
   "metadata": {},
   "outputs": [],
   "source": [
    "#Secuencia 0\n",
    "#Tu código aquí (alt.Chart...)"
   ]
  },
  {
   "cell_type": "code",
   "execution_count": null,
   "metadata": {},
   "outputs": [],
   "source": [
    "#Secuencia 1\n",
    "#Tu código aquí (alt.Chart...)"
   ]
  },
  {
   "cell_type": "code",
   "execution_count": null,
   "metadata": {},
   "outputs": [],
   "source": [
    "#Secuencia 2\n",
    "#Tu código aquí (alt.Chart...)"
   ]
  },
  {
   "cell_type": "code",
   "execution_count": null,
   "metadata": {},
   "outputs": [],
   "source": [
    "#Secuencia 3\n",
    "#Tu código aquí (alt.Chart...)"
   ]
  },
  {
   "cell_type": "markdown",
   "metadata": {},
   "source": [
    "### Visualizando las 4 secuencias juntas para detectar diferencias"
   ]
  },
  {
   "cell_type": "markdown",
   "metadata": {},
   "source": [
    "Para visualizar los datos en altair, tendremos que normalizarlos: esto es, cada entrada en nuestra lista tendrá que tener el siguiente formato:\n",
    "\n",
    "```\n",
    "{\n",
    "    \"seq_short_name\": \"nombre (acortado) de la secuencia a la que se refiere este dato\", \n",
    "    \"count\": \"frecuencia en la ventana #i\", \n",
    "    \"i\": \"ventana #i\"\n",
    "}\n",
    "```"
   ]
  },
  {
   "cell_type": "code",
   "execution_count": null,
   "metadata": {},
   "outputs": [],
   "source": [
    "# Tu código aquí\n",
    "freqs_normalized "
   ]
  },
  {
   "cell_type": "code",
   "execution_count": null,
   "metadata": {},
   "outputs": [],
   "source": [
    "# Tu código aquí\n",
    "# alt.Chart(alt.Data(\n",
    "#    values=freqs_normalized\n",
    "# ))..."
   ]
  },
  {
   "cell_type": "markdown",
   "metadata": {},
   "source": [
    "## Problema 2: Visualizando secuencias frecuentes en el SARS-CoV-2\n",
    "\n",
    "Vamos a crear una visualización para comparar los n k-meros más comunes encontrados en las distintas cepas.\n",
    "\n",
    "Primero, vamos a ver algunos resultados en \"crudo\": "
   ]
  },
  {
   "cell_type": "code",
   "execution_count": null,
   "metadata": {},
   "outputs": [],
   "source": [
    "def kmeros_frecuentes(secuencia, k, descarta_errores=False):\n",
    "    freq = {}\n",
    "    n = len(secuencia)\n",
    "    for i in range(n-k+1):\n",
    "        kmero = secuencia[i:i+k]\n",
    "        if kmero in freq:\n",
    "            freq[kmero] += 1\n",
    "        else:\n",
    "            freq[kmero] = 1\n",
    "    \n",
    "    if descarta_errores and 'N'*k in freq:\n",
    "        del freq['N'*k]\n",
    "    return freq"
   ]
  },
  {
   "cell_type": "code",
   "execution_count": null,
   "metadata": {},
   "outputs": [],
   "source": [
    "def top_kmeros(secuencia, k, descarta_errores=False):\n",
    "    kmeros = []\n",
    "    freqs = kmeros_frecuentes(secuencia, k, descarta_errores)\n",
    "    m = max(freqs.values())\n",
    "    for key in freqs:\n",
    "        if freqs[key] == m:\n",
    "            kmeros.append(key)\n",
    "        # add each key to words whose corresponding frequency value is equal to m\n",
    "    return kmeros, m"
   ]
  },
  {
   "cell_type": "code",
   "execution_count": null,
   "metadata": {},
   "outputs": [],
   "source": [
    "for seq in seqs:\n",
    "    print(top_kmeros(seq['seq'], 9))"
   ]
  },
  {
   "cell_type": "code",
   "execution_count": null,
   "metadata": {},
   "outputs": [],
   "source": [
    "for seq in seqs:\n",
    "    print(top_kmeros(seq['seq'], 9, descarta_errores=True))"
   ]
  },
  {
   "cell_type": "markdown",
   "metadata": {},
   "source": [
    "### Top n k-meros\n",
    "Como podemos detectar algunas coincidencias, vamos a intentar visualizarlas. Para ello, primero definiremos una \n",
    "función `top_n_kmeros(seq, k, n)` que devolverá los n k-meros más frecuentes en la secuencias haciendo uso de la función `kmeros_frecuentes`. \n",
    "\n",
    "Después, declararemos otra función `top_n_kmeros_barchart(seqs, k=3, top_n=10)` en la que visualizaremos los n (10) 3 meros más frecuentes en cada una de las secuencias.  "
   ]
  },
  {
   "cell_type": "code",
   "execution_count": null,
   "metadata": {},
   "outputs": [],
   "source": [
    "def top_n_kmeros(seq, k, n):\n",
    "    # Tu código aquí\n",
    "    return kmeros"
   ]
  },
  {
   "cell_type": "code",
   "execution_count": null,
   "metadata": {},
   "outputs": [],
   "source": [
    "def top_n_kmeros_barchart(seqs, k, top_n):    \n",
    "    # Tu código aquí\n",
    "    return alt.Chart()"
   ]
  },
  {
   "cell_type": "code",
   "execution_count": null,
   "metadata": {},
   "outputs": [],
   "source": [
    "top_n_kmeros_barchart(seqs, k=3, top_n=10)"
   ]
  },
  {
   "cell_type": "code",
   "execution_count": null,
   "metadata": {},
   "outputs": [],
   "source": []
  }
 ],
 "metadata": {
  "kernelspec": {
   "display_name": "Python 3",
   "language": "python",
   "name": "python3"
  },
  "language_info": {
   "codemirror_mode": {
    "name": "ipython",
    "version": 3
   },
   "file_extension": ".py",
   "mimetype": "text/x-python",
   "name": "python",
   "nbconvert_exporter": "python",
   "pygments_lexer": "ipython3",
   "version": "3.7.4"
  }
 },
 "nbformat": 4,
 "nbformat_minor": 4
}
